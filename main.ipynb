{
 "cells": [
  {
   "cell_type": "markdown",
   "id": "33996bad-0c56-4ec6-a247-210944f228b6",
   "metadata": {},
   "source": [
    "# Введение в питон"
   ]
  },
  {
   "cell_type": "markdown",
   "id": "d69a978c-516c-4a63-b0e0-27c0355b6c9c",
   "metadata": {
    "jp-MarkdownHeadingCollapsed": true
   },
   "source": [
    "## ДЗ 4"
   ]
  },
  {
   "cell_type": "markdown",
   "id": "740a86ce-6763-4aec-a264-405cdc5ba115",
   "metadata": {
    "jp-MarkdownHeadingCollapsed": true
   },
   "source": [
    "### Задача 1"
   ]
  },
  {
   "cell_type": "code",
   "execution_count": 71,
   "id": "9e036db3-f88f-4b14-9ca8-ba2b8a10cc31",
   "metadata": {},
   "outputs": [
    {
     "name": "stdin",
     "output_type": "stream",
     "text": [
      " 255\n"
     ]
    },
    {
     "name": "stdout",
     "output_type": "stream",
     "text": [
      "11111111\n"
     ]
    }
   ],
   "source": [
    "number = int(input())\n",
    "if number == 0:\n",
    "    print(\"0\")\n",
    "else:\n",
    "    ans = \"\"\n",
    "    while number > 0:\n",
    "        ans = str(number % 2) + ans\n",
    "        number //= 2\n",
    "print(ans)"
   ]
  },
  {
   "cell_type": "markdown",
   "id": "74e451d9-493d-4ee1-828c-604de6274e4c",
   "metadata": {},
   "source": [
    "### Задача 2"
   ]
  },
  {
   "cell_type": "code",
   "execution_count": 76,
   "id": "46560224-8b94-4db1-a7e6-9c6b0b4971b1",
   "metadata": {},
   "outputs": [
    {
     "name": "stdin",
     "output_type": "stream",
     "text": [
      " 0\n"
     ]
    },
    {
     "name": "stdout",
     "output_type": "stream",
     "text": [
      "0 0\n"
     ]
    }
   ],
   "source": [
    "number = int(input())\n",
    "\n",
    "def foo(n):\n",
    "  cnt = 0\n",
    "  while n > 0:\n",
    "    if n % 2 == 0:\n",
    "      cnt += 1\n",
    "    n //= 2\n",
    "  return cnt\n",
    "\n",
    "\n",
    "\n",
    "count, sum = 0, 0\n",
    "while number != 0:\n",
    "  if foo(number) == 3:\n",
    "    count, sum = count + 1, sum + number\n",
    "      \n",
    "  number = int(input())\n",
    "print(count, sum)"
   ]
  },
  {
   "cell_type": "markdown",
   "id": "bb6160ab-c113-4515-bd1a-94c3ccccb0d2",
   "metadata": {},
   "source": [
    "### Задача 3"
   ]
  },
  {
   "cell_type": "code",
   "execution_count": 78,
   "id": "12ab09e0-757c-4430-8fd8-e89c6260f222",
   "metadata": {},
   "outputs": [
    {
     "name": "stdin",
     "output_type": "stream",
     "text": [
      " 1 2 3\n"
     ]
    },
    {
     "name": "stdout",
     "output_type": "stream",
     "text": [
      "7.000\n"
     ]
    }
   ],
   "source": [
    "tmp = str(input()).split()\n",
    "b = float(tmp[0])\n",
    "q = float(tmp[1])\n",
    "N = int(tmp[2])\n",
    "\n",
    "ans = b  *(1 - q**N) / (1 - q)\n",
    "\n",
    "print(f\"{ans:.3f}\")"
   ]
  },
  {
   "cell_type": "markdown",
   "id": "efbe2fbb-e552-4155-a281-8baccee47822",
   "metadata": {},
   "source": [
    "### Задача 4"
   ]
  },
  {
   "cell_type": "code",
   "execution_count": 81,
   "id": "d8742bd1-a257-4f15-b268-f850944f03b4",
   "metadata": {},
   "outputs": [
    {
     "name": "stdin",
     "output_type": "stream",
     "text": [
      " 3\n",
      " -10 9 3\n",
      " 0 6\n",
      " 3 6 9 2\n"
     ]
    },
    {
     "name": "stdout",
     "output_type": "stream",
     "text": [
      "2.000\n"
     ]
    }
   ],
   "source": [
    "n = int(input())\n",
    "ans = None\n",
    "for i in range(n):\n",
    "    tmp = min(list(map(float, input().split())))\n",
    "\n",
    "    ans = tmp if ans is None else max(ans, tmp)\n",
    "    \n",
    "print(f\"{ans:.3f}\")"
   ]
  },
  {
   "cell_type": "markdown",
   "id": "a675fe4b-9113-4205-b5fb-d2911ee730f7",
   "metadata": {},
   "source": [
    "### Задача 5"
   ]
  },
  {
   "cell_type": "code",
   "execution_count": 65,
   "id": "231a1797-6cfd-44ee-9035-2c0137e38a30",
   "metadata": {},
   "outputs": [
    {
     "name": "stdin",
     "output_type": "stream",
     "text": [
      " 100 4\n",
      " 120/10 80/20\n",
      " 120/10 110/10 130/10 120/15\n",
      " 100/10 110/15 95/25\n",
      " 90/10 80/20 85/15\n"
     ]
    },
    {
     "name": "stdout",
     "output_type": "stream",
     "text": [
      "3500\n"
     ]
    }
   ],
   "source": [
    "limit, N = str(input()).split()\n",
    "limit, N = int(limit), int(N)\n",
    "\n",
    "ans = 0\n",
    "for _ in range(N):\n",
    "    tmp = [[int(i.split('/')[0]), int(i.split('/')[1])] for i in str(input()).split()]\n",
    "    tmp = [i[0]* i[1] for i in tmp if i[0] <= limit]\n",
    "    ans += 0 if not tmp else min(tmp)\n",
    "    \n",
    "print(ans)"
   ]
  },
  {
   "cell_type": "markdown",
   "id": "62d2a7df-0547-484b-877d-ddb122b89194",
   "metadata": {
    "jp-MarkdownHeadingCollapsed": true
   },
   "source": [
    "## ДЗ 5"
   ]
  },
  {
   "cell_type": "markdown",
   "id": "e46d2be0-b475-4091-9a35-a0746107541e",
   "metadata": {},
   "source": [
    "### Задача 1"
   ]
  },
  {
   "cell_type": "code",
   "execution_count": 88,
   "id": "23541b47-5cc5-46fe-95c6-5ff3f8823789",
   "metadata": {},
   "outputs": [
    {
     "name": "stdin",
     "output_type": "stream",
     "text": [
      " 1 5 2\n",
      " 10 20 30 40 50 60\n"
     ]
    },
    {
     "name": "stdout",
     "output_type": "stream",
     "text": [
      "[10, 1, 30, 3, 50, 60]\n"
     ]
    }
   ],
   "source": [
    "start, stop, step = map(int, input().split())\n",
    "ans = list(map(int, input().split()))\n",
    "\n",
    "for i in range(start, stop, step):\n",
    "    ans[i] = i  \n",
    "\n",
    "print(ans)"
   ]
  },
  {
   "cell_type": "markdown",
   "id": "95232e31-9603-4331-a757-5436cbc18c7d",
   "metadata": {},
   "source": [
    "### Задача 2"
   ]
  },
  {
   "cell_type": "code",
   "execution_count": 102,
   "id": "4ae9520f-5018-4f03-a1c1-a2ad2d8fb29b",
   "metadata": {},
   "outputs": [],
   "source": [
    "children = []\n",
    "with open(\"weights.txt\", 'r') as f:\n",
    "    for line in f:\n",
    "        children.append(line.split())\n",
    "\n",
    "children = sorted(children, reverse=True, key=lambda x: float(x[1]))\n",
    "\n",
    "ans = children[::2] + children[1::2]\n",
    "\n",
    "with open('team.txt', 'w') as f:\n",
    "    for weight, name in ans:\n",
    "        f.write(f\"{name} {weight}\\n\")"
   ]
  },
  {
   "cell_type": "markdown",
   "id": "a4b456cd-7e52-406b-9645-00feec350f2d",
   "metadata": {},
   "source": [
    "### Задача 3"
   ]
  },
  {
   "cell_type": "code",
   "execution_count": 20,
   "id": "ff2e5ff1-4b68-4acf-a854-ee942f4168ed",
   "metadata": {},
   "outputs": [],
   "source": [
    "with open(\"poe_unpublished.txt\", 'r') as f:\n",
    "    text = f.read()\n",
    "\n",
    "tmp = text.split(\"\\n\")\n",
    "tmp.sort(key=lambda x: len(x.split()))\n",
    "tmp = [sorted(i.split(), key=lambda x: len(x)) for i in tmp]\n",
    "\n",
    "with open('poe_decode_attempt.txt', 'w') as f:\n",
    "    for line in tmp:\n",
    "        f.write(\" \".join(line) + \"\\n\")"
   ]
  },
  {
   "cell_type": "code",
   "execution_count": 22,
   "id": "617ac8dd-992d-49c8-98f0-ec77c9039007",
   "metadata": {},
   "outputs": [
    {
     "name": "stdout",
     "output_type": "stream",
     "text": [
      "I was angry with my friend\n",
      "I told my wrath my wrath did end\n",
      "I was angry with my foe\n",
      "I told it not my wrath did grow"
     ]
    }
   ],
   "source": [
    "!cat poe_unpublished.txt"
   ]
  },
  {
   "cell_type": "code",
   "execution_count": 21,
   "id": "3d0b1695-2500-4574-9e81-22126993121d",
   "metadata": {},
   "outputs": [
    {
     "name": "stdout",
     "output_type": "stream",
     "text": [
      "I my was with angry friend\n",
      "I my was foe with angry\n",
      "I my my did end told wrath wrath\n",
      "I it my not did told grow wrath\n"
     ]
    }
   ],
   "source": [
    "!cat poe_decode_attempt.txt"
   ]
  },
  {
   "cell_type": "markdown",
   "id": "d2b93cbe-7a59-4d71-a086-49bb6cd27b38",
   "metadata": {},
   "source": [
    "### Задача 4"
   ]
  },
  {
   "cell_type": "code",
   "execution_count": 44,
   "id": "9c3278d8-a351-401a-873c-aed6818e7ee4",
   "metadata": {},
   "outputs": [],
   "source": [
    "with open(\"med_research.txt\", 'r') as f:\n",
    "    matrix = [i.split() for i in f.read().splitlines()]\n",
    "\n",
    "n, m = len(matrix), len(matrix[0])\n",
    "ans = [[0 for i in range(n)] for j in range(m)]\n",
    "\n",
    "for i in range(n):\n",
    "    for j in range(m):\n",
    "        ans[j][i] = matrix[i][j]\n",
    "\n",
    "with open('output.txt', 'w') as f:\n",
    "    for line in ans:\n",
    "        f.write(\" \".join(line) + \"\\n\")"
   ]
  },
  {
   "cell_type": "code",
   "execution_count": 45,
   "id": "eaa6724f-dab5-4ef7-8550-e38bb6e32438",
   "metadata": {},
   "outputs": [
    {
     "name": "stdout",
     "output_type": "stream",
     "text": [
      "1 2 3 4 5\n",
      "6 7 8 9 10"
     ]
    }
   ],
   "source": [
    "!cat med_research.txt"
   ]
  },
  {
   "cell_type": "code",
   "execution_count": 46,
   "id": "c94b9d21-5203-4447-8a44-6c55785b6172",
   "metadata": {},
   "outputs": [
    {
     "name": "stdout",
     "output_type": "stream",
     "text": [
      "1 6\n",
      "2 7\n",
      "3 8\n",
      "4 9\n",
      "5 10\n"
     ]
    }
   ],
   "source": [
    "!cat output.txt"
   ]
  },
  {
   "cell_type": "markdown",
   "id": "f07c1e8c-a04b-4b80-8d0e-c5885e587ae5",
   "metadata": {},
   "source": [
    "### Задача 5"
   ]
  },
  {
   "cell_type": "code",
   "execution_count": 68,
   "id": "348e26f7-4011-4ad6-b405-4c5389f73b40",
   "metadata": {},
   "outputs": [],
   "source": [
    "with open(\"the_calls.txt\", 'r') as f:\n",
    "    calls = [i.split('\\t') for i in f.read().splitlines()]\n",
    "\n",
    "A = sorted([i for i in calls if i[2] == 'A'], key=lambda x: int(x[1]), reverse=True)\n",
    "B = sorted([i for i in calls if i[2] == 'B'], key=lambda x: int(x[1]), reverse=True)\n",
    "\n",
    "ans = A + B\n",
    "with open('calls.txt', 'w') as f:\n",
    "    for line in ans:\n",
    "        f.write(\"\\t\".join(line) + \"\\n\")"
   ]
  },
  {
   "cell_type": "code",
   "execution_count": 69,
   "id": "fbab5f0b-3e00-4378-9efb-0a298e3e03da",
   "metadata": {},
   "outputs": [
    {
     "name": "stdout",
     "output_type": "stream",
     "text": [
      "2021.12.12\t3\tB\t+79090329400\n",
      "2019.10.03\t18\tA\t+79999995454\n",
      "2020.05.04\t13\tB\t+72352452532\n",
      "2020.05.04\t4\tA\t+79023987567"
     ]
    }
   ],
   "source": [
    "!cat the_calls.txt"
   ]
  },
  {
   "cell_type": "code",
   "execution_count": 70,
   "id": "c8d2ec3c-bb30-4be7-bdbb-f2df7fd5efff",
   "metadata": {},
   "outputs": [
    {
     "name": "stdout",
     "output_type": "stream",
     "text": [
      "2019.10.03\t18\tA\t+79999995454\n",
      "2020.05.04\t4\tA\t+79023987567\n",
      "2020.05.04\t13\tB\t+72352452532\n",
      "2021.12.12\t3\tB\t+79090329400\n"
     ]
    }
   ],
   "source": [
    "!cat calls.txt"
   ]
  },
  {
   "cell_type": "markdown",
   "id": "7782865b-6a80-45de-8af4-8feecceb77c3",
   "metadata": {},
   "source": [
    "## ДЗ 6"
   ]
  },
  {
   "cell_type": "markdown",
   "id": "2a7dd18d-34f9-48a5-bb4f-9b5c5b4214a6",
   "metadata": {},
   "source": [
    "### Задача 4"
   ]
  },
  {
   "cell_type": "code",
   "execution_count": 35,
   "id": "4d492810-3301-4a87-8372-30b74b051870",
   "metadata": {},
   "outputs": [
    {
     "name": "stdin",
     "output_type": "stream",
     "text": [
      " 2021\n"
     ]
    },
    {
     "name": "stdout",
     "output_type": "stream",
     "text": [
      "0\n"
     ]
    }
   ],
   "source": [
    "d ={}\n",
    "for i in str(input()):\n",
    "    if i in d:\n",
    "        d[i] += 1\n",
    "    else:\n",
    "        d[i] = 1\n",
    "\n",
    "print(min([int(i[0]) for i in d.items() if i[1] == min(d.values())]))"
   ]
  },
  {
   "cell_type": "markdown",
   "id": "9cc4d666-4eea-44cb-b512-71db646ca40b",
   "metadata": {},
   "source": [
    "### Задача 5"
   ]
  },
  {
   "cell_type": "code",
   "execution_count": 38,
   "id": "c55c255c-2e7f-4a53-b4da-fe7b531c9f7d",
   "metadata": {},
   "outputs": [
    {
     "name": "stdout",
     "output_type": "stream",
     "text": [
      "leopard\n",
      "orangutan\n"
     ]
    }
   ],
   "source": [
    "animals = set()\n",
    "with open('input.txt', 'r') as file:\n",
    "    for line in file:\n",
    "        parts = line.strip().split()\n",
    "        animals.add(parts[1])\n",
    "\n",
    "for animal in sorted(animals, key=len):\n",
    "    print(animal)"
   ]
  },
  {
   "cell_type": "markdown",
   "id": "d2afacfd-c659-4522-a166-89a6c920af4a",
   "metadata": {},
   "source": [
    "### Задача 6"
   ]
  },
  {
   "cell_type": "code",
   "execution_count": 56,
   "id": "cdc142ba-fe33-4d51-aafd-c8bf9d82ab6e",
   "metadata": {},
   "outputs": [
    {
     "name": "stdout",
     "output_type": "stream",
     "text": [
      "0\n"
     ]
    }
   ],
   "source": [
    "animals = {}\n",
    "with open('input.txt', 'r') as file:\n",
    "    for line in file:\n",
    "        parts = line.strip().split()\n",
    "        if parts[1] in animals:\n",
    "            animals[parts[1]].add(parts[2])\n",
    "        else:\n",
    "            animals[parts[1]] = set([parts[2]])\n",
    "\n",
    "flag = 0\n",
    "for animal, gender in animals.items():\n",
    "    if ('female' in gender) and ('male' in gender):\n",
    "        print(animal)\n",
    "        flag = 1\n",
    "        \n",
    "if not flag:\n",
    "    print(0)"
   ]
  },
  {
   "cell_type": "markdown",
   "id": "179c30c9-f392-4b5d-acd3-c4e59d08c3bc",
   "metadata": {},
   "source": [
    "### Задача 7"
   ]
  },
  {
   "cell_type": "code",
   "execution_count": 65,
   "id": "dd018acf-253f-426f-ab6c-c03caef8b5ac",
   "metadata": {},
   "outputs": [
    {
     "name": "stdout",
     "output_type": "stream",
     "text": [
      "dog - 2\n",
      "cat - 1\n"
     ]
    }
   ],
   "source": [
    "animals = {}\n",
    "with open('input.txt', 'r') as file:\n",
    "    for line in file:\n",
    "        parts = line.split()\n",
    "        if parts[1] in animals:\n",
    "            animals[parts[1]] += 1\n",
    "        else:\n",
    "            animals[parts[1]] = 1\n",
    "            \n",
    "tmp = sorted(sorted_animals.items(), key=lambda x: x[1], reverse=True)\n",
    "for i in tmp:\n",
    "    print(i[0], \"-\", i[1])"
   ]
  },
  {
   "cell_type": "markdown",
   "id": "cbc23758-c34e-4c03-8cce-baffd25f0278",
   "metadata": {},
   "source": [
    "### Задача 8"
   ]
  },
  {
   "cell_type": "code",
   "execution_count": 82,
   "id": "2cfac771-c6f3-4d2a-bd2f-7876f4f8075c",
   "metadata": {},
   "outputs": [
    {
     "name": "stdout",
     "output_type": "stream",
     "text": [
      "dog: 0003, 0043\n",
      "lion: 0042\n"
     ]
    }
   ],
   "source": [
    "animals = {}\n",
    "with open('input.txt', 'r') as file:\n",
    "    for line in file:\n",
    "        parts = line.strip().split()\n",
    "        if parts[1] in animals:\n",
    "            animals[parts[1]].append(parts[0])\n",
    "        else:\n",
    "            animals[parts[1]] = [parts[0]]\n",
    "tmp = sorted(animals.items(), key=lambda x: len(x[0]))\n",
    "for i in tmp:\n",
    "    print(i[0], \": \", \", \".join(sorted(i[1])), sep=\"\")"
   ]
  },
  {
   "cell_type": "markdown",
   "id": "4ffcf3ee-2d0a-4927-9fa2-a1779c353158",
   "metadata": {},
   "source": [
    "## ДЗ 7"
   ]
  },
  {
   "cell_type": "markdown",
   "id": "65291a82-40f2-467f-bb78-d92b2e4a3d00",
   "metadata": {},
   "source": [
    "### Задача 1"
   ]
  },
  {
   "cell_type": "code",
   "execution_count": null,
   "id": "87c7ba7a-c0e7-4032-a0cb-61af4e40846b",
   "metadata": {},
   "outputs": [],
   "source": [
    "27"
   ]
  },
  {
   "cell_type": "markdown",
   "id": "29bc3518-c41b-4fbb-a112-61b8a5a31472",
   "metadata": {},
   "source": [
    "### Задача 2"
   ]
  },
  {
   "cell_type": "code",
   "execution_count": 3,
   "id": "32d04b11-ddd7-4ee5-b4b8-d460d5d7e081",
   "metadata": {},
   "outputs": [
    {
     "name": "stdout",
     "output_type": "stream",
     "text": [
      "27\n"
     ]
    }
   ],
   "source": [
    "def calculate_clients(day):\n",
    "    return int(np.exp(np.sin(day / 100)* (day / 10)) * 20)\n",
    "\n",
    "# Рассчитаем количество клиентов для 18 числа\n",
    "clients_on_18th = calculate_clients(18)\n",
    "print(clients_on_18th)"
   ]
  },
  {
   "cell_type": "markdown",
   "id": "99ea836d-54a1-4aa3-8cf6-e24eae928db4",
   "metadata": {},
   "source": [
    "### Задача 3"
   ]
  },
  {
   "cell_type": "code",
   "execution_count": 9,
   "id": "8643694b-22f8-41a1-a106-2fd1b33d5b25",
   "metadata": {},
   "outputs": [
    {
     "name": "stdin",
     "output_type": "stream",
     "text": [
      " 15\n"
     ]
    },
    {
     "name": "stdout",
     "output_type": "stream",
     "text": [
      "1 2 Fizz 4 Buzz Fizz 7 8 Fizz Buzz 11 Fizz 13 14 FizzBuzz\n"
     ]
    }
   ],
   "source": [
    "import numpy as np\n",
    "\n",
    "N=int(input())\n",
    "\n",
    "tmp = np.arange(1, N + 1)\n",
    "ans = tmp.astype(str) \n",
    "\n",
    "ans[tmp % 3 == 0] = 'Fizz'\n",
    "ans[tmp % 5 == 0] = 'Buzz' \n",
    "ans[(tmp % 3 == 0) & (tmp % 5 == 0)] = 'FizzBuzz' \n",
    "\n",
    "print(' '.join(ans))"
   ]
  },
  {
   "cell_type": "markdown",
   "id": "8a061bb2-7292-46c5-8938-18fd3a9a5700",
   "metadata": {},
   "source": [
    "### Задача 4"
   ]
  },
  {
   "cell_type": "code",
   "execution_count": 36,
   "id": "98a00053-d1e7-4576-8394-d10eb0f906b4",
   "metadata": {},
   "outputs": [],
   "source": [
    "import numpy as np\n",
    "\n",
    "with open('input.txt', 'r') as file:\n",
    "    a1, a2, num = list(map(lambda x: float(x.strip()), list(file)))\n",
    "  \n",
    "expectation = np.linspace(a1, a2, int(num))\n",
    "\n",
    "fact = expected_profit.copy()\n",
    "\n",
    "fact[np.arange(num, dtype=np.int64) %7 == 0] /= 3\n",
    "fact[np.arange(num, dtype=np.int64) %7 == 4] *= 2\n",
    "\n",
    "with open('output.txt', 'w') as file:\n",
    "    for num in fact:\n",
    "        file.write(f\"{num:.2f}\\n\")"
   ]
  },
  {
   "cell_type": "markdown",
   "id": "0be22311-de83-434b-9c0a-39f5629995cb",
   "metadata": {},
   "source": [
    "### Задача 5"
   ]
  },
  {
   "cell_type": "code",
   "execution_count": null,
   "id": "f2dbf091-7269-4f80-8449-feb794a21398",
   "metadata": {},
   "outputs": [],
   "source": [
    "import math\n",
    "\n",
    "f = lambda x: math.sin(math.tan(1 + x / 1000))\n",
    "\n",
    "def bisec(l, r, tol=1e-6):\n",
    "    while (r - l) > 2*tol:\n",
    "        mid = (l + r) / 2 \n",
    "        if f(l) * f(mid) < 0:\n",
    "            r = mid  \n",
    "        else:\n",
    "            l = mid  \n",
    "    return (l + r) / 2 \n",
    "\n",
    "\n",
    "N, res = int(input()), []\n",
    "\n",
    "for i in range(N):\n",
    "    a, b = list(map(float, input().split()))\n",
    "    ans = bisec(a, b)\n",
    "    res.append(f\"{ans:.6F}\")\n",
    "\n",
    "for result in res:\n",
    "    print(result)"
   ]
  },
  {
   "cell_type": "markdown",
   "id": "ede610dc-583a-415d-a7d5-f8547928b8f2",
   "metadata": {},
   "source": [
    "## ДЗ 8"
   ]
  },
  {
   "cell_type": "markdown",
   "id": "a2416937-6e78-411f-97f9-d254b8210be5",
   "metadata": {},
   "source": [
    "## Задача 1"
   ]
  },
  {
   "cell_type": "code",
   "execution_count": 4,
   "id": "40077c82-30ff-49c0-8922-24dcf4fa62da",
   "metadata": {},
   "outputs": [
    {
     "name": "stdout",
     "output_type": "stream",
     "text": [
      "[[ 5.5  8.1 84.9]\n",
      " [45.2 80.5 70.2]]\n"
     ]
    }
   ],
   "source": [
    "import numpy as np\n",
    "\n",
    "with open('input.txt', 'r') as file:\n",
    "    m = [list(map(float, l.split())) for l in file]\n",
    "\n",
    "print(np.array(matrix).T)"
   ]
  },
  {
   "cell_type": "markdown",
   "id": "3aa8384c-4aec-4ec0-8239-0ac3865b7ed9",
   "metadata": {},
   "source": [
    "### Задача 2"
   ]
  },
  {
   "cell_type": "code",
   "execution_count": null,
   "id": "526207d4-a020-4a6a-ac7c-f5da328bf738",
   "metadata": {},
   "outputs": [],
   "source": [
    "import numpy as np\n",
    "\n",
    "with open('input.txt', 'r') as file:\n",
    "    data = np.array(list(map(int, file.read().split())))\n",
    "\n",
    "print(f\"{np.median(data):.2f} {np.mean(data):.2f} {np.std(data):.2f}\")"
   ]
  },
  {
   "cell_type": "markdown",
   "id": "776dd816-ce16-44f8-92c2-cb9ed682c7e4",
   "metadata": {},
   "source": [
    "### Задача 3"
   ]
  },
  {
   "cell_type": "code",
   "execution_count": 6,
   "id": "1a86c1fb-578c-4668-9c66-7758038d144d",
   "metadata": {},
   "outputs": [],
   "source": [
    "import numpy as np\n",
    "\n",
    "logs = np.loadtxt('input.csv', delimiter=',')\n",
    "logs[::2, 1::2] /= 2\n",
    "logs[1::2, ::2] /= 2\n",
    "np.savetxt('output.csv', logs, delimiter=',', fmt='%g')"
   ]
  },
  {
   "cell_type": "markdown",
   "id": "2387c66d-98d4-4a2d-b061-6086b7d1e0a7",
   "metadata": {},
   "source": [
    "### Задача 4"
   ]
  },
  {
   "cell_type": "code",
   "execution_count": 12,
   "id": "17c32fa8-11cb-4f0a-bcd1-210df165e904",
   "metadata": {},
   "outputs": [],
   "source": [
    "import numpy as np\n",
    "\n",
    "data = np.genfromtxt('input.csv', delimiter=',', dtype=int)\n",
    "\n",
    "with open('output.txt', 'w') as f:\n",
    "    f.write(str(np.argmax(data.sum(axis=0)) + 1))"
   ]
  },
  {
   "cell_type": "markdown",
   "id": "c9779e8a-977e-4778-99fb-59aac108e5c1",
   "metadata": {},
   "source": [
    "### Задача 5"
   ]
  },
  {
   "cell_type": "code",
   "execution_count": 14,
   "id": "d621953b-6bf3-44e6-9122-ba288b7d9c4a",
   "metadata": {},
   "outputs": [
    {
     "name": "stdout",
     "output_type": "stream",
     "text": [
      "2\n"
     ]
    }
   ],
   "source": [
    "import numpy as np\n",
    "\n",
    "data = np.loadtxt(\"input.csv\", delimiter=',')\n",
    "\n",
    "std_deviations = np.std(data, axis=1)\n",
    "\n",
    "if np.sum(std_deviations <= 4) > np.sum(std_deviations > 4):\n",
    "    print(1)\n",
    "else:\n",
    "    print(2)"
   ]
  },
  {
   "cell_type": "markdown",
   "id": "2f6910f0-10aa-4fb6-8d39-445b82e53bd9",
   "metadata": {},
   "source": [
    "### Задача 6"
   ]
  },
  {
   "cell_type": "code",
   "execution_count": 17,
   "id": "b7a1ee25-3eef-4229-9352-f15b7280e6dd",
   "metadata": {},
   "outputs": [],
   "source": [
    "import numpy as np\n",
    "data = np.loadtxt('input.csv', delimiter=',', dtype=int)\n",
    "data[0, :] = (np.mean(data, axis=0)*1.5).astype(np.int32)\n",
    "np.savetxt('output.csv', data, delimiter=',', fmt='%d')"
   ]
  },
  {
   "cell_type": "markdown",
   "id": "cd4260f2-5e36-4a70-ae44-c5a322f65db3",
   "metadata": {},
   "source": [
    "## ДЗ 9"
   ]
  },
  {
   "cell_type": "markdown",
   "id": "937ec190-33c5-425c-8c2c-1ebf4a7ec355",
   "metadata": {},
   "source": [
    "### Задача 1"
   ]
  },
  {
   "cell_type": "code",
   "execution_count": 32,
   "id": "049db8e3-0678-4ce9-9a6d-5d216d2814e7",
   "metadata": {},
   "outputs": [
    {
     "name": "stdout",
     "output_type": "stream",
     "text": [
      "False True False\n",
      "False True True\n",
      "True False False\n"
     ]
    }
   ],
   "source": [
    "import itertools\n",
    "\n",
    "permutations = list(itertools.product([1, 0], repeat=3))\n",
    "\n",
    "ans = []\n",
    "for permutation in permutations:\n",
    "    if (not permutation[0] and permutation[1] and not permutation[2]) or \\\n",
    "       (not permutation[0] and permutation[1] and permutation[2]) or \\\n",
    "       (permutation[0] and not permutation[1] and not permutation[2]):\n",
    "        ans.append(permutation)\n",
    "\n",
    "ans.sort(key=lambda permutation: int(''.join(np.array(permutation, dtype=str)), 2))\n",
    "\n",
    "for permutation in ans:\n",
    "    print(' '.join('True' if value else 'False' for value in permutation))"
   ]
  },
  {
   "cell_type": "markdown",
   "id": "1e236698-689c-4f4f-ad0f-0812ec1eb01b",
   "metadata": {},
   "source": [
    "### Задача 2"
   ]
  },
  {
   "cell_type": "code",
   "execution_count": 34,
   "id": "465a4081-288e-4589-82e8-d89d6ba65088",
   "metadata": {},
   "outputs": [
    {
     "name": "stdout",
     "output_type": "stream",
     "text": [
      "16\n"
     ]
    }
   ],
   "source": [
    "import pandas as pd\n",
    "\n",
    "df = pd.read_csv('input.csv', header=None)\n",
    "print(df.mean(axis=0).idxmin() + 1)"
   ]
  },
  {
   "cell_type": "markdown",
   "id": "e1adafbe-a946-4934-8e80-c10fc5ad401e",
   "metadata": {},
   "source": [
    "### Задача 3"
   ]
  },
  {
   "cell_type": "markdown",
   "id": "5df2167e-9c25-48bb-9eac-e4514ea62e51",
   "metadata": {},
   "source": [
    "* data[(data.weekdays == 'Thu') & (data.prices > 2000000)]\n",
    "\n",
    "* data.query('weekdays == \"Thu\" and prices > 2000000')"
   ]
  },
  {
   "cell_type": "markdown",
   "id": "6d1f9f90-3bf4-483f-9da2-c66f29824fd9",
   "metadata": {},
   "source": [
    "### Задача 4"
   ]
  },
  {
   "cell_type": "code",
   "execution_count": 60,
   "id": "94497515-81a6-452f-aa61-aa3860146910",
   "metadata": {},
   "outputs": [
    {
     "name": "stdout",
     "output_type": "stream",
     "text": [
      "4\n"
     ]
    }
   ],
   "source": [
    "import pandas as pd\n",
    "\n",
    "data = pd.read_csv('input.csv')\n",
    "print(((data.a + data.b > data.c) & (data.b + data.c > data.a) & (data.c + data.a > data.b)).sum(axis=0))"
   ]
  },
  {
   "cell_type": "markdown",
   "id": "cee8bc83-d12a-453a-90a9-b0a5fd39a5c8",
   "metadata": {},
   "source": [
    "### Задача 5"
   ]
  },
  {
   "cell_type": "code",
   "execution_count": 65,
   "id": "a326be55-4fee-4688-a816-3ec1a504dfdd",
   "metadata": {},
   "outputs": [
    {
     "name": "stdout",
     "output_type": "stream",
     "text": [
      "Вишенка\n"
     ]
    }
   ],
   "source": [
    "import pandas as pd\n",
    "\n",
    "df = pd.read_csv(\"input.csv\")\n",
    "print(df.columns[df.mean().values.argmax()])"
   ]
  },
  {
   "cell_type": "markdown",
   "id": "f7e47f55-85cf-497f-8d12-b7abdd7f02bb",
   "metadata": {},
   "source": [
    "### Задача 6"
   ]
  },
  {
   "cell_type": "code",
   "execution_count": 71,
   "id": "f72afbbc-f1e4-495a-bc71-1f7d1b52ee7a",
   "metadata": {},
   "outputs": [
    {
     "ename": "AttributeError",
     "evalue": "'numpy.int64' object has no attribute 'idxmax'",
     "output_type": "error",
     "traceback": [
      "\u001b[0;31m---------------------------------------------------------------------------\u001b[0m",
      "\u001b[0;31mAttributeError\u001b[0m                            Traceback (most recent call last)",
      "Cell \u001b[0;32mIn[71], line 5\u001b[0m\n\u001b[1;32m      3\u001b[0m data \u001b[38;5;241m=\u001b[39m pd\u001b[38;5;241m.\u001b[39mread_csv(\u001b[38;5;124m'\u001b[39m\u001b[38;5;124minput.csv\u001b[39m\u001b[38;5;124m'\u001b[39m, index_col\u001b[38;5;241m=\u001b[39m\u001b[38;5;241m0\u001b[39m)\n\u001b[1;32m      4\u001b[0m \u001b[38;5;28;01mif\u001b[39;00m data\u001b[38;5;241m.\u001b[39msum()\u001b[38;5;241m.\u001b[39msum() \u001b[38;5;241m>\u001b[39m\u001b[38;5;241m=\u001b[39m \u001b[38;5;241m8000000\u001b[39m:\n\u001b[0;32m----> 5\u001b[0m     \u001b[38;5;28mprint\u001b[39m(\u001b[38;5;241m1\u001b[39m, dividends\u001b[38;5;241m.\u001b[39msum()\u001b[38;5;241m.\u001b[39midxmax())\n\u001b[1;32m      6\u001b[0m \u001b[38;5;28;01melse\u001b[39;00m:\n\u001b[1;32m      7\u001b[0m     \u001b[38;5;28mprint\u001b[39m(\u001b[38;5;241m0\u001b[39m, dividends\u001b[38;5;241m.\u001b[39msum()\u001b[38;5;241m.\u001b[39midxmax())\n",
      "\u001b[0;31mAttributeError\u001b[0m: 'numpy.int64' object has no attribute 'idxmax'"
     ]
    }
   ],
   "source": [
    "import pandas as pd\n",
    "\n",
    "data = pd.read_csv('input.csv', index_col=0)\n",
    "if data.sum().sum() >= 8000000:\n",
    "    print(1, dividends.sum().idxmax())\n",
    "else:\n",
    "    print(0, dividends.sum().idxmax())\n"
   ]
  },
  {
   "cell_type": "code",
   "execution_count": null,
   "id": "d2e6715f-1596-4196-bda9-1c761873f885",
   "metadata": {},
   "outputs": [],
   "source": []
  },
  {
   "cell_type": "code",
   "execution_count": null,
   "id": "05ce325c-264f-42b6-8496-ddaf17ffa79c",
   "metadata": {},
   "outputs": [],
   "source": []
  },
  {
   "cell_type": "code",
   "execution_count": null,
   "id": "c55c4745-6f56-4f0d-b5b7-1549595da059",
   "metadata": {},
   "outputs": [],
   "source": []
  },
  {
   "cell_type": "markdown",
   "id": "44a906ee-cf1a-4032-a20c-789ea3938231",
   "metadata": {
    "jp-MarkdownHeadingCollapsed": true
   },
   "source": [
    "# ML"
   ]
  },
  {
   "cell_type": "markdown",
   "id": "46aef61d-7cd9-4d47-96df-f6122cfe27ae",
   "metadata": {},
   "source": [
    "## ДЗ 7"
   ]
  },
  {
   "cell_type": "markdown",
   "id": "e3eb64da-332d-4a19-a4a9-a402f8308826",
   "metadata": {},
   "source": [
    "### Задача p1"
   ]
  },
  {
   "cell_type": "code",
   "execution_count": 6,
   "id": "bf218469-2d06-4335-91b5-cc042100412f",
   "metadata": {},
   "outputs": [],
   "source": [
    "import numpy as np\n",
    "\n",
    "class sample(object):\n",
    "    def __init__(self, X, n_subspace):\n",
    "        self.idx_subspace = self.random_subspace(X, n_subspace)\n",
    "\n",
    "    def __call__(self, X, y):\n",
    "        return self.get_subsample(X, y, self.idx_subspace, self.bootstrap_sample(X))\n",
    "\n",
    "    @staticmethod\n",
    "    def bootstrap_sample(X):\n",
    "        return np.unique(np.random.choice( len(X), size= len(X), replace=True))\n",
    "\n",
    "    @staticmethod\n",
    "    def random_subspace(X, n_subspace):\n",
    "        return np.unique(np.random.choice(X.shape[1], size=n_subspace, replace=False))\n",
    "\n",
    "    @staticmethod\n",
    "    def get_subsample(X, y, idx_subspace, idx_obj):\n",
    "        return X[idx_obj][:, idx_subspace], y[idx_obj]"
   ]
  },
  {
   "cell_type": "code",
   "execution_count": 9,
   "id": "3ce50ffd-1db4-4530-a711-2c3d465fe7a3",
   "metadata": {},
   "outputs": [
    {
     "data": {
      "text/plain": [
       "(array([1, 2]),\n",
       " array([1, 2]),\n",
       " array([[5, 6],\n",
       "        [8, 9]]),\n",
       " array([2, 3]))"
      ]
     },
     "execution_count": 9,
     "metadata": {},
     "output_type": "execute_result"
    }
   ],
   "source": [
    "X = np.array([[1,2,3], [4,5,6], [7,8,9]])\n",
    "Y = np.array([1, 2, 3])\n",
    "s = sample(X, 2)\n",
    "\n",
    "bootstrap_indices = s.bootstrap_sample(X)\n",
    "X_sampled, y_sampled = s.get_subsample(X, Y, s.idx_subspace, bootstrap_indices)\n",
    "\n",
    "bootstrap_indices, s.idx_subspace, X_sampled, y_sampled"
   ]
  },
  {
   "cell_type": "code",
   "execution_count": null,
   "id": "91a46f99-733a-435f-873a-392775581414",
   "metadata": {},
   "outputs": [],
   "source": [
    "# Дх"
   ]
  }
 ],
 "metadata": {
  "kernelspec": {
   "display_name": "Python 3 (ipykernel)",
   "language": "python",
   "name": "python3"
  },
  "language_info": {
   "codemirror_mode": {
    "name": "ipython",
    "version": 3
   },
   "file_extension": ".py",
   "mimetype": "text/x-python",
   "name": "python",
   "nbconvert_exporter": "python",
   "pygments_lexer": "ipython3",
   "version": "3.12.2"
  }
 },
 "nbformat": 4,
 "nbformat_minor": 5
}
