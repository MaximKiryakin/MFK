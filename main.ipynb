{
 "cells": [
  {
   "cell_type": "markdown",
   "id": "33996bad-0c56-4ec6-a247-210944f228b6",
   "metadata": {},
   "source": [
    "# Введение в питон"
   ]
  },
  {
   "cell_type": "markdown",
   "id": "d69a978c-516c-4a63-b0e0-27c0355b6c9c",
   "metadata": {
    "jp-MarkdownHeadingCollapsed": true
   },
   "source": [
    "## ДЗ 4"
   ]
  },
  {
   "cell_type": "markdown",
   "id": "740a86ce-6763-4aec-a264-405cdc5ba115",
   "metadata": {
    "jp-MarkdownHeadingCollapsed": true
   },
   "source": [
    "### Задача 1"
   ]
  },
  {
   "cell_type": "code",
   "execution_count": 71,
   "id": "9e036db3-f88f-4b14-9ca8-ba2b8a10cc31",
   "metadata": {},
   "outputs": [
    {
     "name": "stdin",
     "output_type": "stream",
     "text": [
      " 255\n"
     ]
    },
    {
     "name": "stdout",
     "output_type": "stream",
     "text": [
      "11111111\n"
     ]
    }
   ],
   "source": [
    "number = int(input())\n",
    "if number == 0:\n",
    "    print(\"0\")\n",
    "else:\n",
    "    ans = \"\"\n",
    "    while number > 0:\n",
    "        ans = str(number % 2) + ans\n",
    "        number //= 2\n",
    "print(ans)"
   ]
  },
  {
   "cell_type": "markdown",
   "id": "74e451d9-493d-4ee1-828c-604de6274e4c",
   "metadata": {},
   "source": [
    "### Задача 2"
   ]
  },
  {
   "cell_type": "code",
   "execution_count": 76,
   "id": "46560224-8b94-4db1-a7e6-9c6b0b4971b1",
   "metadata": {},
   "outputs": [
    {
     "name": "stdin",
     "output_type": "stream",
     "text": [
      " 0\n"
     ]
    },
    {
     "name": "stdout",
     "output_type": "stream",
     "text": [
      "0 0\n"
     ]
    }
   ],
   "source": [
    "number = int(input())\n",
    "\n",
    "def foo(n):\n",
    "  cnt = 0\n",
    "  while n > 0:\n",
    "    if n % 2 == 0:\n",
    "      cnt += 1\n",
    "    n //= 2\n",
    "  return cnt\n",
    "\n",
    "\n",
    "\n",
    "count, sum = 0, 0\n",
    "while number != 0:\n",
    "  if foo(number) == 3:\n",
    "    count, sum = count + 1, sum + number\n",
    "      \n",
    "  number = int(input())\n",
    "print(count, sum)"
   ]
  },
  {
   "cell_type": "markdown",
   "id": "bb6160ab-c113-4515-bd1a-94c3ccccb0d2",
   "metadata": {},
   "source": [
    "### Задача 3"
   ]
  },
  {
   "cell_type": "code",
   "execution_count": 78,
   "id": "12ab09e0-757c-4430-8fd8-e89c6260f222",
   "metadata": {},
   "outputs": [
    {
     "name": "stdin",
     "output_type": "stream",
     "text": [
      " 1 2 3\n"
     ]
    },
    {
     "name": "stdout",
     "output_type": "stream",
     "text": [
      "7.000\n"
     ]
    }
   ],
   "source": [
    "tmp = str(input()).split()\n",
    "b = float(tmp[0])\n",
    "q = float(tmp[1])\n",
    "N = int(tmp[2])\n",
    "\n",
    "ans = b  *(1 - q**N) / (1 - q)\n",
    "\n",
    "print(f\"{ans:.3f}\")"
   ]
  },
  {
   "cell_type": "markdown",
   "id": "efbe2fbb-e552-4155-a281-8baccee47822",
   "metadata": {},
   "source": [
    "### Задача 4"
   ]
  },
  {
   "cell_type": "code",
   "execution_count": 81,
   "id": "d8742bd1-a257-4f15-b268-f850944f03b4",
   "metadata": {},
   "outputs": [
    {
     "name": "stdin",
     "output_type": "stream",
     "text": [
      " 3\n",
      " -10 9 3\n",
      " 0 6\n",
      " 3 6 9 2\n"
     ]
    },
    {
     "name": "stdout",
     "output_type": "stream",
     "text": [
      "2.000\n"
     ]
    }
   ],
   "source": [
    "n = int(input())\n",
    "ans = None\n",
    "for i in range(n):\n",
    "    tmp = min(list(map(float, input().split())))\n",
    "\n",
    "    ans = tmp if ans is None else max(ans, tmp)\n",
    "    \n",
    "print(f\"{ans:.3f}\")"
   ]
  },
  {
   "cell_type": "markdown",
   "id": "a675fe4b-9113-4205-b5fb-d2911ee730f7",
   "metadata": {},
   "source": [
    "### Задача 5"
   ]
  },
  {
   "cell_type": "code",
   "execution_count": 65,
   "id": "231a1797-6cfd-44ee-9035-2c0137e38a30",
   "metadata": {},
   "outputs": [
    {
     "name": "stdin",
     "output_type": "stream",
     "text": [
      " 100 4\n",
      " 120/10 80/20\n",
      " 120/10 110/10 130/10 120/15\n",
      " 100/10 110/15 95/25\n",
      " 90/10 80/20 85/15\n"
     ]
    },
    {
     "name": "stdout",
     "output_type": "stream",
     "text": [
      "3500\n"
     ]
    }
   ],
   "source": [
    "limit, N = str(input()).split()\n",
    "limit, N = int(limit), int(N)\n",
    "\n",
    "ans = 0\n",
    "for _ in range(N):\n",
    "    tmp = [[int(i.split('/')[0]), int(i.split('/')[1])] for i in str(input()).split()]\n",
    "    tmp = [i[0]* i[1] for i in tmp if i[0] <= limit]\n",
    "    ans += 0 if not tmp else min(tmp)\n",
    "    \n",
    "print(ans)"
   ]
  },
  {
   "cell_type": "markdown",
   "id": "62d2a7df-0547-484b-877d-ddb122b89194",
   "metadata": {
    "jp-MarkdownHeadingCollapsed": true
   },
   "source": [
    "## ДЗ 5"
   ]
  },
  {
   "cell_type": "markdown",
   "id": "e46d2be0-b475-4091-9a35-a0746107541e",
   "metadata": {},
   "source": [
    "### Задача 1"
   ]
  },
  {
   "cell_type": "code",
   "execution_count": 88,
   "id": "23541b47-5cc5-46fe-95c6-5ff3f8823789",
   "metadata": {},
   "outputs": [
    {
     "name": "stdin",
     "output_type": "stream",
     "text": [
      " 1 5 2\n",
      " 10 20 30 40 50 60\n"
     ]
    },
    {
     "name": "stdout",
     "output_type": "stream",
     "text": [
      "[10, 1, 30, 3, 50, 60]\n"
     ]
    }
   ],
   "source": [
    "start, stop, step = map(int, input().split())\n",
    "ans = list(map(int, input().split()))\n",
    "\n",
    "for i in range(start, stop, step):\n",
    "    ans[i] = i  \n",
    "\n",
    "print(ans)"
   ]
  },
  {
   "cell_type": "markdown",
   "id": "95232e31-9603-4331-a757-5436cbc18c7d",
   "metadata": {},
   "source": [
    "### Задача 2"
   ]
  },
  {
   "cell_type": "code",
   "execution_count": 102,
   "id": "4ae9520f-5018-4f03-a1c1-a2ad2d8fb29b",
   "metadata": {},
   "outputs": [],
   "source": [
    "children = []\n",
    "with open(\"weights.txt\", 'r') as f:\n",
    "    for line in f:\n",
    "        children.append(line.split())\n",
    "\n",
    "children = sorted(children, reverse=True, key=lambda x: float(x[1]))\n",
    "\n",
    "ans = children[::2] + children[1::2]\n",
    "\n",
    "with open('team.txt', 'w') as f:\n",
    "    for weight, name in ans:\n",
    "        f.write(f\"{name} {weight}\\n\")"
   ]
  },
  {
   "cell_type": "markdown",
   "id": "a4b456cd-7e52-406b-9645-00feec350f2d",
   "metadata": {},
   "source": [
    "### Задача 3"
   ]
  },
  {
   "cell_type": "code",
   "execution_count": 20,
   "id": "ff2e5ff1-4b68-4acf-a854-ee942f4168ed",
   "metadata": {},
   "outputs": [],
   "source": [
    "with open(\"poe_unpublished.txt\", 'r') as f:\n",
    "    text = f.read()\n",
    "\n",
    "tmp = text.split(\"\\n\")\n",
    "tmp.sort(key=lambda x: len(x.split()))\n",
    "tmp = [sorted(i.split(), key=lambda x: len(x)) for i in tmp]\n",
    "\n",
    "with open('poe_decode_attempt.txt', 'w') as f:\n",
    "    for line in tmp:\n",
    "        f.write(\" \".join(line) + \"\\n\")"
   ]
  },
  {
   "cell_type": "code",
   "execution_count": 22,
   "id": "617ac8dd-992d-49c8-98f0-ec77c9039007",
   "metadata": {},
   "outputs": [
    {
     "name": "stdout",
     "output_type": "stream",
     "text": [
      "I was angry with my friend\n",
      "I told my wrath my wrath did end\n",
      "I was angry with my foe\n",
      "I told it not my wrath did grow"
     ]
    }
   ],
   "source": [
    "!cat poe_unpublished.txt"
   ]
  },
  {
   "cell_type": "code",
   "execution_count": 21,
   "id": "3d0b1695-2500-4574-9e81-22126993121d",
   "metadata": {},
   "outputs": [
    {
     "name": "stdout",
     "output_type": "stream",
     "text": [
      "I my was with angry friend\n",
      "I my was foe with angry\n",
      "I my my did end told wrath wrath\n",
      "I it my not did told grow wrath\n"
     ]
    }
   ],
   "source": [
    "!cat poe_decode_attempt.txt"
   ]
  },
  {
   "cell_type": "markdown",
   "id": "d2b93cbe-7a59-4d71-a086-49bb6cd27b38",
   "metadata": {},
   "source": [
    "### Задача 4"
   ]
  },
  {
   "cell_type": "code",
   "execution_count": 44,
   "id": "9c3278d8-a351-401a-873c-aed6818e7ee4",
   "metadata": {},
   "outputs": [],
   "source": [
    "with open(\"med_research.txt\", 'r') as f:\n",
    "    matrix = [i.split() for i in f.read().splitlines()]\n",
    "\n",
    "n, m = len(matrix), len(matrix[0])\n",
    "ans = [[0 for i in range(n)] for j in range(m)]\n",
    "\n",
    "for i in range(n):\n",
    "    for j in range(m):\n",
    "        ans[j][i] = matrix[i][j]\n",
    "\n",
    "with open('output.txt', 'w') as f:\n",
    "    for line in ans:\n",
    "        f.write(\" \".join(line) + \"\\n\")"
   ]
  },
  {
   "cell_type": "code",
   "execution_count": 45,
   "id": "eaa6724f-dab5-4ef7-8550-e38bb6e32438",
   "metadata": {},
   "outputs": [
    {
     "name": "stdout",
     "output_type": "stream",
     "text": [
      "1 2 3 4 5\n",
      "6 7 8 9 10"
     ]
    }
   ],
   "source": [
    "!cat med_research.txt"
   ]
  },
  {
   "cell_type": "code",
   "execution_count": 46,
   "id": "c94b9d21-5203-4447-8a44-6c55785b6172",
   "metadata": {},
   "outputs": [
    {
     "name": "stdout",
     "output_type": "stream",
     "text": [
      "1 6\n",
      "2 7\n",
      "3 8\n",
      "4 9\n",
      "5 10\n"
     ]
    }
   ],
   "source": [
    "!cat output.txt"
   ]
  },
  {
   "cell_type": "markdown",
   "id": "f07c1e8c-a04b-4b80-8d0e-c5885e587ae5",
   "metadata": {},
   "source": [
    "### Задача 5"
   ]
  },
  {
   "cell_type": "code",
   "execution_count": 68,
   "id": "348e26f7-4011-4ad6-b405-4c5389f73b40",
   "metadata": {},
   "outputs": [],
   "source": [
    "with open(\"the_calls.txt\", 'r') as f:\n",
    "    calls = [i.split('\\t') for i in f.read().splitlines()]\n",
    "\n",
    "A = sorted([i for i in calls if i[2] == 'A'], key=lambda x: int(x[1]), reverse=True)\n",
    "B = sorted([i for i in calls if i[2] == 'B'], key=lambda x: int(x[1]), reverse=True)\n",
    "\n",
    "ans = A + B\n",
    "with open('calls.txt', 'w') as f:\n",
    "    for line in ans:\n",
    "        f.write(\"\\t\".join(line) + \"\\n\")"
   ]
  },
  {
   "cell_type": "code",
   "execution_count": 69,
   "id": "fbab5f0b-3e00-4378-9efb-0a298e3e03da",
   "metadata": {},
   "outputs": [
    {
     "name": "stdout",
     "output_type": "stream",
     "text": [
      "2021.12.12\t3\tB\t+79090329400\n",
      "2019.10.03\t18\tA\t+79999995454\n",
      "2020.05.04\t13\tB\t+72352452532\n",
      "2020.05.04\t4\tA\t+79023987567"
     ]
    }
   ],
   "source": [
    "!cat the_calls.txt"
   ]
  },
  {
   "cell_type": "code",
   "execution_count": 70,
   "id": "c8d2ec3c-bb30-4be7-bdbb-f2df7fd5efff",
   "metadata": {},
   "outputs": [
    {
     "name": "stdout",
     "output_type": "stream",
     "text": [
      "2019.10.03\t18\tA\t+79999995454\n",
      "2020.05.04\t4\tA\t+79023987567\n",
      "2020.05.04\t13\tB\t+72352452532\n",
      "2021.12.12\t3\tB\t+79090329400\n"
     ]
    }
   ],
   "source": [
    "!cat calls.txt"
   ]
  },
  {
   "cell_type": "markdown",
   "id": "7782865b-6a80-45de-8af4-8feecceb77c3",
   "metadata": {
    "jp-MarkdownHeadingCollapsed": true
   },
   "source": [
    "## ДЗ 6"
   ]
  },
  {
   "cell_type": "markdown",
   "id": "2a7dd18d-34f9-48a5-bb4f-9b5c5b4214a6",
   "metadata": {},
   "source": [
    "### Задача 4"
   ]
  },
  {
   "cell_type": "code",
   "execution_count": 35,
   "id": "4d492810-3301-4a87-8372-30b74b051870",
   "metadata": {},
   "outputs": [
    {
     "name": "stdin",
     "output_type": "stream",
     "text": [
      " 2021\n"
     ]
    },
    {
     "name": "stdout",
     "output_type": "stream",
     "text": [
      "0\n"
     ]
    }
   ],
   "source": [
    "d ={}\n",
    "for i in str(input()):\n",
    "    if i in d:\n",
    "        d[i] += 1\n",
    "    else:\n",
    "        d[i] = 1\n",
    "\n",
    "print(min([int(i[0]) for i in d.items() if i[1] == min(d.values())]))"
   ]
  },
  {
   "cell_type": "markdown",
   "id": "9cc4d666-4eea-44cb-b512-71db646ca40b",
   "metadata": {},
   "source": [
    "### Задача 5"
   ]
  },
  {
   "cell_type": "code",
   "execution_count": 38,
   "id": "c55c255c-2e7f-4a53-b4da-fe7b531c9f7d",
   "metadata": {},
   "outputs": [
    {
     "name": "stdout",
     "output_type": "stream",
     "text": [
      "leopard\n",
      "orangutan\n"
     ]
    }
   ],
   "source": [
    "animals = set()\n",
    "with open('input.txt', 'r') as file:\n",
    "    for line in file:\n",
    "        parts = line.strip().split()\n",
    "        animals.add(parts[1])\n",
    "\n",
    "for animal in sorted(animals, key=len):\n",
    "    print(animal)"
   ]
  },
  {
   "cell_type": "markdown",
   "id": "d2afacfd-c659-4522-a166-89a6c920af4a",
   "metadata": {},
   "source": [
    "### Задача 6"
   ]
  },
  {
   "cell_type": "code",
   "execution_count": 56,
   "id": "cdc142ba-fe33-4d51-aafd-c8bf9d82ab6e",
   "metadata": {},
   "outputs": [
    {
     "name": "stdout",
     "output_type": "stream",
     "text": [
      "0\n"
     ]
    }
   ],
   "source": [
    "animals = {}\n",
    "with open('input.txt', 'r') as file:\n",
    "    for line in file:\n",
    "        parts = line.strip().split()\n",
    "        if parts[1] in animals:\n",
    "            animals[parts[1]].add(parts[2])\n",
    "        else:\n",
    "            animals[parts[1]] = set([parts[2]])\n",
    "\n",
    "flag = 0\n",
    "for animal, gender in animals.items():\n",
    "    if ('female' in gender) and ('male' in gender):\n",
    "        print(animal)\n",
    "        flag = 1\n",
    "        \n",
    "if not flag:\n",
    "    print(0)"
   ]
  },
  {
   "cell_type": "markdown",
   "id": "179c30c9-f392-4b5d-acd3-c4e59d08c3bc",
   "metadata": {},
   "source": [
    "### Задача 7"
   ]
  },
  {
   "cell_type": "code",
   "execution_count": 65,
   "id": "dd018acf-253f-426f-ab6c-c03caef8b5ac",
   "metadata": {},
   "outputs": [
    {
     "name": "stdout",
     "output_type": "stream",
     "text": [
      "dog - 2\n",
      "cat - 1\n"
     ]
    }
   ],
   "source": [
    "animals = {}\n",
    "with open('input.txt', 'r') as file:\n",
    "    for line in file:\n",
    "        parts = line.split()\n",
    "        if parts[1] in animals:\n",
    "            animals[parts[1]] += 1\n",
    "        else:\n",
    "            animals[parts[1]] = 1\n",
    "            \n",
    "tmp = sorted(sorted_animals.items(), key=lambda x: x[1], reverse=True)\n",
    "for i in tmp:\n",
    "    print(i[0], \"-\", i[1])"
   ]
  },
  {
   "cell_type": "markdown",
   "id": "cbc23758-c34e-4c03-8cce-baffd25f0278",
   "metadata": {},
   "source": [
    "### Задача 8"
   ]
  },
  {
   "cell_type": "code",
   "execution_count": 82,
   "id": "2cfac771-c6f3-4d2a-bd2f-7876f4f8075c",
   "metadata": {},
   "outputs": [
    {
     "name": "stdout",
     "output_type": "stream",
     "text": [
      "dog: 0003, 0043\n",
      "lion: 0042\n"
     ]
    }
   ],
   "source": [
    "animals = {}\n",
    "with open('input.txt', 'r') as file:\n",
    "    for line in file:\n",
    "        parts = line.strip().split()\n",
    "        if parts[1] in animals:\n",
    "            animals[parts[1]].append(parts[0])\n",
    "        else:\n",
    "            animals[parts[1]] = [parts[0]]\n",
    "tmp = sorted(animals.items(), key=lambda x: len(x[0]))\n",
    "for i in tmp:\n",
    "    print(i[0], \": \", \", \".join(sorted(i[1])), sep=\"\")"
   ]
  },
  {
   "cell_type": "markdown",
   "id": "4ffcf3ee-2d0a-4927-9fa2-a1779c353158",
   "metadata": {
    "jp-MarkdownHeadingCollapsed": true
   },
   "source": [
    "## ДЗ 7"
   ]
  },
  {
   "cell_type": "markdown",
   "id": "65291a82-40f2-467f-bb78-d92b2e4a3d00",
   "metadata": {},
   "source": [
    "### Задача 1"
   ]
  },
  {
   "cell_type": "code",
   "execution_count": null,
   "id": "87c7ba7a-c0e7-4032-a0cb-61af4e40846b",
   "metadata": {},
   "outputs": [],
   "source": [
    "27"
   ]
  },
  {
   "cell_type": "markdown",
   "id": "29bc3518-c41b-4fbb-a112-61b8a5a31472",
   "metadata": {},
   "source": [
    "### Задача 2"
   ]
  },
  {
   "cell_type": "code",
   "execution_count": 3,
   "id": "32d04b11-ddd7-4ee5-b4b8-d460d5d7e081",
   "metadata": {},
   "outputs": [
    {
     "name": "stdout",
     "output_type": "stream",
     "text": [
      "27\n"
     ]
    }
   ],
   "source": [
    "def calculate_clients(day):\n",
    "    return int(np.exp(np.sin(day / 100)* (day / 10)) * 20)\n",
    "\n",
    "# Рассчитаем количество клиентов для 18 числа\n",
    "clients_on_18th = calculate_clients(18)\n",
    "print(clients_on_18th)"
   ]
  },
  {
   "cell_type": "markdown",
   "id": "99ea836d-54a1-4aa3-8cf6-e24eae928db4",
   "metadata": {},
   "source": [
    "### Задача 3"
   ]
  },
  {
   "cell_type": "code",
   "execution_count": 9,
   "id": "8643694b-22f8-41a1-a106-2fd1b33d5b25",
   "metadata": {},
   "outputs": [
    {
     "name": "stdin",
     "output_type": "stream",
     "text": [
      " 15\n"
     ]
    },
    {
     "name": "stdout",
     "output_type": "stream",
     "text": [
      "1 2 Fizz 4 Buzz Fizz 7 8 Fizz Buzz 11 Fizz 13 14 FizzBuzz\n"
     ]
    }
   ],
   "source": [
    "import numpy as np\n",
    "\n",
    "N=int(input())\n",
    "\n",
    "tmp = np.arange(1, N + 1)\n",
    "ans = tmp.astype(str) \n",
    "\n",
    "ans[tmp % 3 == 0] = 'Fizz'\n",
    "ans[tmp % 5 == 0] = 'Buzz' \n",
    "ans[(tmp % 3 == 0) & (tmp % 5 == 0)] = 'FizzBuzz' \n",
    "\n",
    "print(' '.join(ans))"
   ]
  },
  {
   "cell_type": "markdown",
   "id": "8a061bb2-7292-46c5-8938-18fd3a9a5700",
   "metadata": {},
   "source": [
    "### Задача 4"
   ]
  },
  {
   "cell_type": "code",
   "execution_count": 36,
   "id": "98a00053-d1e7-4576-8394-d10eb0f906b4",
   "metadata": {},
   "outputs": [],
   "source": [
    "import numpy as np\n",
    "\n",
    "with open('input.txt', 'r') as file:\n",
    "    a1, a2, num = list(map(lambda x: float(x.strip()), list(file)))\n",
    "  \n",
    "expectation = np.linspace(a1, a2, int(num))\n",
    "\n",
    "fact = expected_profit.copy()\n",
    "\n",
    "fact[np.arange(num, dtype=np.int64) %7 == 0] /= 3\n",
    "fact[np.arange(num, dtype=np.int64) %7 == 4] *= 2\n",
    "\n",
    "with open('output.txt', 'w') as file:\n",
    "    for num in fact:\n",
    "        file.write(f\"{num:.2f}\\n\")"
   ]
  },
  {
   "cell_type": "markdown",
   "id": "0be22311-de83-434b-9c0a-39f5629995cb",
   "metadata": {},
   "source": [
    "### Задача 5"
   ]
  },
  {
   "cell_type": "code",
   "execution_count": null,
   "id": "f2dbf091-7269-4f80-8449-feb794a21398",
   "metadata": {},
   "outputs": [],
   "source": [
    "import math\n",
    "\n",
    "f = lambda x: math.sin(math.tan(1 + x / 1000))\n",
    "\n",
    "def bisec(l, r, tol=1e-6):\n",
    "    while (r - l) > 2*tol:\n",
    "        mid = (l + r) / 2 \n",
    "        if f(l) * f(mid) < 0:\n",
    "            r = mid  \n",
    "        else:\n",
    "            l = mid  \n",
    "    return (l + r) / 2 \n",
    "\n",
    "\n",
    "N, res = int(input()), []\n",
    "\n",
    "for i in range(N):\n",
    "    a, b = list(map(float, input().split()))\n",
    "    ans = bisec(a, b)\n",
    "    res.append(f\"{ans:.6F}\")\n",
    "\n",
    "for result in res:\n",
    "    print(result)"
   ]
  },
  {
   "cell_type": "markdown",
   "id": "ede610dc-583a-415d-a7d5-f8547928b8f2",
   "metadata": {
    "jp-MarkdownHeadingCollapsed": true
   },
   "source": [
    "## ДЗ 8"
   ]
  },
  {
   "cell_type": "markdown",
   "id": "a2416937-6e78-411f-97f9-d254b8210be5",
   "metadata": {},
   "source": [
    "### Задача 1"
   ]
  },
  {
   "cell_type": "code",
   "execution_count": 4,
   "id": "40077c82-30ff-49c0-8922-24dcf4fa62da",
   "metadata": {},
   "outputs": [
    {
     "name": "stdout",
     "output_type": "stream",
     "text": [
      "[[ 5.5  8.1 84.9]\n",
      " [45.2 80.5 70.2]]\n"
     ]
    }
   ],
   "source": [
    "import numpy as np\n",
    "\n",
    "with open('input.txt', 'r') as file:\n",
    "    m = [list(map(float, l.split())) for l in file]\n",
    "\n",
    "print(np.array(matrix).T)"
   ]
  },
  {
   "cell_type": "markdown",
   "id": "3aa8384c-4aec-4ec0-8239-0ac3865b7ed9",
   "metadata": {},
   "source": [
    "### Задача 2"
   ]
  },
  {
   "cell_type": "code",
   "execution_count": null,
   "id": "526207d4-a020-4a6a-ac7c-f5da328bf738",
   "metadata": {},
   "outputs": [],
   "source": [
    "import numpy as np\n",
    "\n",
    "with open('input.txt', 'r') as file:\n",
    "    data = np.array(list(map(int, file.read().split())))\n",
    "\n",
    "print(f\"{np.median(data):.2f} {np.mean(data):.2f} {np.std(data):.2f}\")"
   ]
  },
  {
   "cell_type": "markdown",
   "id": "776dd816-ce16-44f8-92c2-cb9ed682c7e4",
   "metadata": {},
   "source": [
    "### Задача 3"
   ]
  },
  {
   "cell_type": "code",
   "execution_count": 6,
   "id": "1a86c1fb-578c-4668-9c66-7758038d144d",
   "metadata": {},
   "outputs": [],
   "source": [
    "import numpy as np\n",
    "\n",
    "logs = np.loadtxt('input.csv', delimiter=',')\n",
    "logs[::2, 1::2] /= 2\n",
    "logs[1::2, ::2] /= 2\n",
    "np.savetxt('output.csv', logs, delimiter=',', fmt='%g')"
   ]
  },
  {
   "cell_type": "markdown",
   "id": "2387c66d-98d4-4a2d-b061-6086b7d1e0a7",
   "metadata": {},
   "source": [
    "### Задача 4"
   ]
  },
  {
   "cell_type": "code",
   "execution_count": 12,
   "id": "17c32fa8-11cb-4f0a-bcd1-210df165e904",
   "metadata": {},
   "outputs": [],
   "source": [
    "import numpy as np\n",
    "\n",
    "data = np.genfromtxt('input.csv', delimiter=',', dtype=int)\n",
    "\n",
    "with open('output.txt', 'w') as f:\n",
    "    f.write(str(np.argmax(data.sum(axis=0)) + 1))"
   ]
  },
  {
   "cell_type": "markdown",
   "id": "c9779e8a-977e-4778-99fb-59aac108e5c1",
   "metadata": {},
   "source": [
    "### Задача 5"
   ]
  },
  {
   "cell_type": "code",
   "execution_count": 14,
   "id": "d621953b-6bf3-44e6-9122-ba288b7d9c4a",
   "metadata": {},
   "outputs": [
    {
     "name": "stdout",
     "output_type": "stream",
     "text": [
      "2\n"
     ]
    }
   ],
   "source": [
    "import numpy as np\n",
    "\n",
    "data = np.loadtxt(\"input.csv\", delimiter=',')\n",
    "\n",
    "std_deviations = np.std(data, axis=1)\n",
    "\n",
    "if np.sum(std_deviations <= 4) > np.sum(std_deviations > 4):\n",
    "    print(1)\n",
    "else:\n",
    "    print(2)"
   ]
  },
  {
   "cell_type": "markdown",
   "id": "2f6910f0-10aa-4fb6-8d39-445b82e53bd9",
   "metadata": {},
   "source": [
    "### Задача 6"
   ]
  },
  {
   "cell_type": "code",
   "execution_count": 17,
   "id": "b7a1ee25-3eef-4229-9352-f15b7280e6dd",
   "metadata": {},
   "outputs": [],
   "source": [
    "import numpy as np\n",
    "data = np.loadtxt('input.csv', delimiter=',', dtype=int)\n",
    "data[0, :] = (np.mean(data, axis=0)*1.5).astype(np.int32)\n",
    "np.savetxt('output.csv', data, delimiter=',', fmt='%d')"
   ]
  },
  {
   "cell_type": "markdown",
   "id": "cd4260f2-5e36-4a70-ae44-c5a322f65db3",
   "metadata": {
    "jp-MarkdownHeadingCollapsed": true
   },
   "source": [
    "## ДЗ 9"
   ]
  },
  {
   "cell_type": "markdown",
   "id": "937ec190-33c5-425c-8c2c-1ebf4a7ec355",
   "metadata": {},
   "source": [
    "### Задача 1"
   ]
  },
  {
   "cell_type": "code",
   "execution_count": 32,
   "id": "049db8e3-0678-4ce9-9a6d-5d216d2814e7",
   "metadata": {},
   "outputs": [
    {
     "name": "stdout",
     "output_type": "stream",
     "text": [
      "False True False\n",
      "False True True\n",
      "True False False\n"
     ]
    }
   ],
   "source": [
    "import itertools\n",
    "\n",
    "permutations = list(itertools.product([1, 0], repeat=3))\n",
    "\n",
    "ans = []\n",
    "for permutation in permutations:\n",
    "    if (not permutation[0] and permutation[1] and not permutation[2]) or \\\n",
    "       (not permutation[0] and permutation[1] and permutation[2]) or \\\n",
    "       (permutation[0] and not permutation[1] and not permutation[2]):\n",
    "        ans.append(permutation)\n",
    "\n",
    "ans.sort(key=lambda permutation: int(''.join(np.array(permutation, dtype=str)), 2))\n",
    "\n",
    "for permutation in ans:\n",
    "    print(' '.join('True' if value else 'False' for value in permutation))"
   ]
  },
  {
   "cell_type": "markdown",
   "id": "1e236698-689c-4f4f-ad0f-0812ec1eb01b",
   "metadata": {},
   "source": [
    "### Задача 2"
   ]
  },
  {
   "cell_type": "code",
   "execution_count": 34,
   "id": "465a4081-288e-4589-82e8-d89d6ba65088",
   "metadata": {},
   "outputs": [
    {
     "name": "stdout",
     "output_type": "stream",
     "text": [
      "16\n"
     ]
    }
   ],
   "source": [
    "import pandas as pd\n",
    "\n",
    "df = pd.read_csv('input.csv', header=None)\n",
    "print(df.mean(axis=0).idxmin() + 1)"
   ]
  },
  {
   "cell_type": "markdown",
   "id": "e1adafbe-a946-4934-8e80-c10fc5ad401e",
   "metadata": {},
   "source": [
    "### Задача 3"
   ]
  },
  {
   "cell_type": "markdown",
   "id": "5df2167e-9c25-48bb-9eac-e4514ea62e51",
   "metadata": {},
   "source": [
    "* data[(data.weekdays == 'Thu') & (data.prices > 2000000)]\n",
    "\n",
    "* data.query('weekdays == \"Thu\" and prices > 2000000')"
   ]
  },
  {
   "cell_type": "markdown",
   "id": "6d1f9f90-3bf4-483f-9da2-c66f29824fd9",
   "metadata": {},
   "source": [
    "### Задача 4"
   ]
  },
  {
   "cell_type": "code",
   "execution_count": 60,
   "id": "94497515-81a6-452f-aa61-aa3860146910",
   "metadata": {},
   "outputs": [
    {
     "name": "stdout",
     "output_type": "stream",
     "text": [
      "4\n"
     ]
    }
   ],
   "source": [
    "import pandas as pd\n",
    "\n",
    "data = pd.read_csv('input.csv')\n",
    "print(((data.a + data.b > data.c) & (data.b + data.c > data.a) & (data.c + data.a > data.b)).sum(axis=0))"
   ]
  },
  {
   "cell_type": "markdown",
   "id": "cee8bc83-d12a-453a-90a9-b0a5fd39a5c8",
   "metadata": {},
   "source": [
    "### Задача 5"
   ]
  },
  {
   "cell_type": "code",
   "execution_count": 65,
   "id": "a326be55-4fee-4688-a816-3ec1a504dfdd",
   "metadata": {},
   "outputs": [
    {
     "name": "stdout",
     "output_type": "stream",
     "text": [
      "Вишенка\n"
     ]
    }
   ],
   "source": [
    "import pandas as pd\n",
    "\n",
    "df = pd.read_csv(\"input.csv\")\n",
    "print(df.columns[df.mean().values.argmax()])"
   ]
  },
  {
   "cell_type": "markdown",
   "id": "f7e47f55-85cf-497f-8d12-b7abdd7f02bb",
   "metadata": {},
   "source": [
    "### Задача 6"
   ]
  },
  {
   "cell_type": "code",
   "execution_count": 75,
   "id": "f72afbbc-f1e4-495a-bc71-1f7d1b52ee7a",
   "metadata": {},
   "outputs": [
    {
     "name": "stdout",
     "output_type": "stream",
     "text": [
      "1 Мыло.ру\n"
     ]
    }
   ],
   "source": [
    "import pandas as pd\n",
    "\n",
    "data = pd.read_csv('input.csv', index_col=0)\n",
    "if data.sum().sum() >= 8000000:\n",
    "    print(1, data.sum().idxmax())\n",
    "else:\n",
    "    print(0, data.sum().idxmax())"
   ]
  },
  {
   "cell_type": "markdown",
   "id": "830927d9-69f2-4e04-be89-87cbe5f466e5",
   "metadata": {},
   "source": [
    "## ДЗ 10"
   ]
  },
  {
   "cell_type": "markdown",
   "id": "15f0005c-2e30-40d4-89cf-ce23b0f9cd01",
   "metadata": {},
   "source": [
    "### Задача 1"
   ]
  },
  {
   "cell_type": "code",
   "execution_count": 83,
   "id": "f11b86c2-03a0-4f4a-b3a5-2924f48d50da",
   "metadata": {},
   "outputs": [],
   "source": [
    "import pandas as pd\n",
    "\n",
    "df = (\n",
    "    pd.read_csv(\"input.csv\")\n",
    "    .dropna(subset=[\"name\"])\n",
    "    .assign(score = lambda x: x.score.fillna(x.score.mean()))\n",
    ")\n",
    "\n",
    "df.to_csv(\"output.csv\")"
   ]
  },
  {
   "cell_type": "markdown",
   "id": "8f9ce3a6-8ffb-41b1-a090-6177b9c81523",
   "metadata": {},
   "source": [
    "### Задача 2"
   ]
  },
  {
   "cell_type": "code",
   "execution_count": 87,
   "id": "7add6f10-dd6e-4662-a4ce-e9194e8db32f",
   "metadata": {},
   "outputs": [
    {
     "data": {
      "text/plain": [
       "2    login1\n",
       "3    login4\n",
       "Name: login, dtype: object"
      ]
     },
     "execution_count": 87,
     "metadata": {},
     "output_type": "execute_result"
    }
   ],
   "source": [
    "import pandas as pd\n",
    "\n",
    "df = pd.DataFrame(np.array([[\"login3\", 2, 5, 5],\n",
    "                  [\"login1\", 2, 5, 5],\n",
    "                  [\"login4\", 2, 5, 5],\n",
    "                  [\"login5\", 2, 5, 5]]), columns=[\"login\", \"score4\", \"score5\", \"score6\"])\n",
    "\n",
    "df.index +=1\n",
    "\n",
    "df.login.loc[2:3]"
   ]
  },
  {
   "cell_type": "markdown",
   "id": "3a2d84a9-7eb0-4b78-bfaa-2833dd963d06",
   "metadata": {},
   "source": [
    "### Задача 3"
   ]
  },
  {
   "cell_type": "code",
   "execution_count": 96,
   "id": "a3fd142b-1d81-457d-bdbc-0cbd06645d15",
   "metadata": {},
   "outputs": [],
   "source": [
    "import pandas as pd\n",
    "\n",
    "df = pd.read_csv('input.csv')\n",
    "df['temperature_f'] = df['temperature_c'].apply(lambda x: round((x*9/5) + 32))\n",
    "df.to_csv('output.csv')"
   ]
  },
  {
   "cell_type": "markdown",
   "id": "5431a5e7-e5fc-4aae-a669-7ffd0e2fcd4a",
   "metadata": {},
   "source": [
    "### Задача 4"
   ]
  },
  {
   "cell_type": "code",
   "execution_count": 158,
   "id": "a67d2be9-302f-4ca8-af6b-e4794e4c1aab",
   "metadata": {},
   "outputs": [],
   "source": [
    "import pandas as pd\n",
    "\n",
    "df = pd.read_csv('input.csv')\n",
    "\n",
    "if not df.empty and 'ID' in df.columns: \n",
    "\n",
    "    df['Объем груза'] = df.apply(lambda row: row['Объем груза'] if row['Тип операции'] == 'Привоз' else -row['Объем груза'], axis=1)\n",
    "\n",
    "    ans = (\n",
    "        df.groupby('Фамилия водителя')['Объем груза']\n",
    "        .sum()\n",
    "        .reset_index()\n",
    "        .sort_values(by=['Объем груза', 'Фамилия водителя'], ascending=[False, True])\n",
    "    )\n",
    "    \n",
    "    ans.to_csv('output.csv', index=False, encoding='utf8')\n",
    "else:\n",
    "\n",
    "    df_empty = pd.DataFrame(columns=['Фамилия водителя', 'Объем груза'])\n",
    "    df_empty.to_csv('output.csv', index=False, encoding='utf8')"
   ]
  },
  {
   "cell_type": "markdown",
   "id": "4c13a302-231f-425c-986e-93ef06f661d1",
   "metadata": {},
   "source": [
    "### Задача 5"
   ]
  },
  {
   "cell_type": "code",
   "execution_count": 155,
   "id": "0e2a4b76-41eb-4019-abaf-9daf6056b13a",
   "metadata": {},
   "outputs": [],
   "source": [
    "import pandas as pd\n",
    "\n",
    "df = (\n",
    "    pd.read_csv('input.csv')\n",
    "    .assign(tmp=lambda x: x[\"Город отправления\"] + x[\"Город прибытия\"])\n",
    "    .rename(columns={\"tmp\": \"Уникальных маршрутов\"})\n",
    ")\n",
    "\n",
    "(\n",
    "    df[[\"Номер борта\", \"Уникальных маршрутов\"]]\n",
    "    .groupby([\"Номер борта\"])\n",
    "    .nunique()\n",
    "    .reset_index()\n",
    "    .sort_values([\"Уникальных маршрутов\", 'Номер борта'], ascending=[False, True])\n",
    "    .to_csv(\"output.csv\", encoding=\"utf8\", index=False)\n",
    ")"
   ]
  },
  {
   "cell_type": "markdown",
   "id": "ddc530ac-2d94-4a10-895a-d7560f306a2f",
   "metadata": {},
   "source": [
    "### Задача 6"
   ]
  },
  {
   "cell_type": "markdown",
   "id": "51777b58-6a9d-4408-83f9-a924ef7cadd9",
   "metadata": {},
   "source": [
    "inner"
   ]
  },
  {
   "cell_type": "markdown",
   "id": "552222e6-9708-4af9-98ae-61b2247862d1",
   "metadata": {},
   "source": [
    "## ДЗ 11"
   ]
  },
  {
   "cell_type": "markdown",
   "id": "bac27e75-00d3-4de9-a609-03c951b240a7",
   "metadata": {},
   "source": [
    "### Задача 1"
   ]
  },
  {
   "cell_type": "code",
   "execution_count": 15,
   "id": "6ee0cdf8-0a4e-460c-8591-40105c2fea21",
   "metadata": {},
   "outputs": [],
   "source": [
    "class Incapsulator:\n",
    "    def __init__(self, value = 0):\n",
    "        self.val_inner = value\n",
    "\n",
    "    def set_value(self, val):\n",
    "        self.val_inner = val\n",
    "\n",
    "    def get_value(self):\n",
    "        return self.val_inner"
   ]
  },
  {
   "cell_type": "code",
   "execution_count": 16,
   "id": "ae75e678-b3e2-40bd-84e3-308ca60fb92f",
   "metadata": {},
   "outputs": [],
   "source": [
    "a = Incapsulator()\n",
    "assert a.get_value() == 0\n",
    "\n",
    "a.set_value(5.0)\n",
    "assert a.get_value() == 5\n",
    "\n",
    "a.set_value(-1.0)\n",
    "assert a.get_value() == -1"
   ]
  },
  {
   "cell_type": "markdown",
   "id": "8b2d7dd7-134d-4e95-84cf-8534cb4a242d",
   "metadata": {},
   "source": [
    "### Задача 2"
   ]
  },
  {
   "cell_type": "code",
   "execution_count": 24,
   "id": "131f5ee4-3232-4326-8873-24044b8e2807",
   "metadata": {},
   "outputs": [],
   "source": [
    "class Student:\n",
    "    def __init__(self, name, age):\n",
    "        self.name, self.age = name, float(age)\n",
    "\n",
    "    def __repr__(self):\n",
    "        return f\"Student({self.name}, {self.age})\"\n",
    "\n",
    "    def __str__(self):\n",
    "        return f\"Student {self.name} of age {self.age}\""
   ]
  },
  {
   "cell_type": "code",
   "execution_count": 25,
   "id": "6a765a69-77ef-4893-bcde-fc23755e400a",
   "metadata": {},
   "outputs": [
    {
     "ename": "TypeError",
     "evalue": "Student.__init__() missing 2 required positional arguments: 'name' and 'age'",
     "output_type": "error",
     "traceback": [
      "\u001b[0;31m---------------------------------------------------------------------------\u001b[0m",
      "\u001b[0;31mTypeError\u001b[0m                                 Traceback (most recent call last)",
      "Cell \u001b[0;32mIn[25], line 1\u001b[0m\n\u001b[0;32m----> 1\u001b[0m a \u001b[38;5;241m=\u001b[39m Student()\n",
      "\u001b[0;31mTypeError\u001b[0m: Student.__init__() missing 2 required positional arguments: 'name' and 'age'"
     ]
    }
   ],
   "source": [
    "a = Student()"
   ]
  },
  {
   "cell_type": "code",
   "execution_count": 26,
   "id": "483686eb-c9a5-487b-82ad-5af6dfb3a1a6",
   "metadata": {},
   "outputs": [
    {
     "data": {
      "text/plain": [
       "Student(Ivan, 18.0)"
      ]
     },
     "execution_count": 26,
     "metadata": {},
     "output_type": "execute_result"
    }
   ],
   "source": [
    "a = Student(\"Ivan\", 18)\n",
    "a"
   ]
  },
  {
   "cell_type": "code",
   "execution_count": 27,
   "id": "ce1ec9bc-916e-47d5-92d6-080ccd85783a",
   "metadata": {},
   "outputs": [
    {
     "name": "stdout",
     "output_type": "stream",
     "text": [
      "Student Ivan of age 18.0\n"
     ]
    }
   ],
   "source": [
    "print(a)"
   ]
  },
  {
   "cell_type": "code",
   "execution_count": 28,
   "id": "b53b4c51-f6fb-44ef-8f5f-7e610c174501",
   "metadata": {},
   "outputs": [
    {
     "data": {
      "text/plain": [
       "Student(Ivan, 18.0)"
      ]
     },
     "execution_count": 28,
     "metadata": {},
     "output_type": "execute_result"
    }
   ],
   "source": [
    "a = Student(\"Ivan\", 18.0)\n",
    "a"
   ]
  },
  {
   "cell_type": "code",
   "execution_count": 29,
   "id": "7eb3cd79-a765-430a-8254-c7022b15c00d",
   "metadata": {},
   "outputs": [
    {
     "name": "stdout",
     "output_type": "stream",
     "text": [
      "Student Ivan of age 18.0\n"
     ]
    }
   ],
   "source": [
    "print(a)"
   ]
  },
  {
   "cell_type": "markdown",
   "id": "fb6bea05-2197-4805-b28f-f010d0486921",
   "metadata": {},
   "source": [
    "### Задача 3"
   ]
  },
  {
   "cell_type": "code",
   "execution_count": 59,
   "id": "43cb7249-4768-4a0a-a6a4-4c5b5f04c174",
   "metadata": {},
   "outputs": [],
   "source": [
    "class SpyingNumber:\n",
    "    global_counter = 0\n",
    "\n",
    "    def __init__(self, value):\n",
    "        self.value = value\n",
    "\n",
    "    @staticmethod\n",
    "    def get_global_counter():\n",
    "        return SpyingNumber.global_counter\n",
    "\n",
    "    @staticmethod\n",
    "    def reset_global_counter():\n",
    "        SpyingNumber.global_counter = 0\n",
    "\n",
    "    def add(self, other):\n",
    "        if isinstance(other, (int, float)):\n",
    "            other = SpyingNumber(other)\n",
    "        SpyingNumber.global_counter += 1\n",
    "        return SpyingNumber(self.value + other.value)\n",
    "\n",
    "    def sub(self, other):\n",
    "        if isinstance(other, (int, float)):\n",
    "            other = SpyingNumber(other)\n",
    "        SpyingNumber.global_counter += 1\n",
    "        return SpyingNumber(self.value - other.value)\n",
    "\n",
    "    def mul(self, other):\n",
    "        if isinstance(other, (int, float)):\n",
    "            other = SpyingNumber(other)\n",
    "        SpyingNumber.global_counter += 1\n",
    "        return SpyingNumber(self.value * other.value)\n",
    "\n",
    "    def truediv(self, other):\n",
    "        if isinstance(other, (int, float)):\n",
    "            other = SpyingNumber(other)\n",
    "        SpyingNumber.global_counter += 1\n",
    "        return SpyingNumber(self.value / other.value)\n",
    "\n",
    "    def __repr__(self):\n",
    "        return f\"SpyingNumber({self.value})\"\n",
    "\n",
    "    def __str__(self):\n",
    "        return str(self.value)\n",
    "\n",
    "    def __add__(self, other):\n",
    "        return self.add(other)\n",
    "\n",
    "    def __sub__(self, other):\n",
    "        return self.sub(other)\n",
    "\n",
    "    def __mul__(self, other):\n",
    "        return self.mul(other)\n",
    "\n",
    "    def __truediv__(self, other):\n",
    "        return self.truediv(other)\n"
   ]
  },
  {
   "cell_type": "code",
   "execution_count": 60,
   "id": "68946416-6afb-4572-981d-1b29b100e35b",
   "metadata": {},
   "outputs": [
    {
     "name": "stdout",
     "output_type": "stream",
     "text": [
      "10\n"
     ]
    }
   ],
   "source": [
    "assert SpyingNumber.get_global_counter() == 0\n",
    "x = SpyingNumber(10)\n",
    "print(x)"
   ]
  },
  {
   "cell_type": "code",
   "execution_count": 61,
   "id": "c864a054-400e-4396-850c-2e241355923b",
   "metadata": {},
   "outputs": [],
   "source": [
    "x = x + 10"
   ]
  },
  {
   "cell_type": "code",
   "execution_count": 62,
   "id": "f16dcea2-c146-4636-89b0-ddd49e673bd7",
   "metadata": {},
   "outputs": [
    {
     "data": {
      "text/plain": [
       "SpyingNumber(20)"
      ]
     },
     "execution_count": 62,
     "metadata": {},
     "output_type": "execute_result"
    }
   ],
   "source": [
    "x"
   ]
  },
  {
   "cell_type": "code",
   "execution_count": 63,
   "id": "a9afc073-0201-45f6-b484-2c9d8013ad46",
   "metadata": {},
   "outputs": [
    {
     "data": {
      "text/plain": [
       "1"
      ]
     },
     "execution_count": 63,
     "metadata": {},
     "output_type": "execute_result"
    }
   ],
   "source": [
    "x.get_global_counter()"
   ]
  },
  {
   "cell_type": "code",
   "execution_count": 64,
   "id": "58b6e569-0935-4b5d-a5fc-86d307162a28",
   "metadata": {},
   "outputs": [],
   "source": [
    "y = x * SpyingNumber(2.5)"
   ]
  },
  {
   "cell_type": "code",
   "execution_count": 65,
   "id": "6773878a-368c-4a90-a896-9adc8d100499",
   "metadata": {},
   "outputs": [
    {
     "data": {
      "text/plain": [
       "SpyingNumber(50.0)"
      ]
     },
     "execution_count": 65,
     "metadata": {},
     "output_type": "execute_result"
    }
   ],
   "source": [
    "y"
   ]
  },
  {
   "cell_type": "code",
   "execution_count": 66,
   "id": "b46f0de9-a35a-43a7-89ed-166a87070988",
   "metadata": {},
   "outputs": [],
   "source": [
    "x = x / 2"
   ]
  },
  {
   "cell_type": "code",
   "execution_count": 67,
   "id": "2ae2bbe1-4295-4ed5-a433-8b401ecfd8f3",
   "metadata": {},
   "outputs": [
    {
     "data": {
      "text/plain": [
       "3"
      ]
     },
     "execution_count": 67,
     "metadata": {},
     "output_type": "execute_result"
    }
   ],
   "source": [
    "y.get_global_counter()"
   ]
  },
  {
   "cell_type": "code",
   "execution_count": 68,
   "id": "c08dafc3-ec22-4789-bb62-bece245a5402",
   "metadata": {},
   "outputs": [
    {
     "data": {
      "text/plain": [
       "SpyingNumber(0.0)"
      ]
     },
     "execution_count": 68,
     "metadata": {},
     "output_type": "execute_result"
    }
   ],
   "source": [
    "y - 50"
   ]
  },
  {
   "cell_type": "code",
   "execution_count": 69,
   "id": "389c5427-4c43-4aba-aa23-5e59f2432dca",
   "metadata": {},
   "outputs": [
    {
     "data": {
      "text/plain": [
       "4"
      ]
     },
     "execution_count": 69,
     "metadata": {},
     "output_type": "execute_result"
    }
   ],
   "source": [
    "SpyingNumber.get_global_counter()"
   ]
  },
  {
   "cell_type": "code",
   "execution_count": 70,
   "id": "d9d9858b-d654-42d9-b1ae-d746880b1270",
   "metadata": {},
   "outputs": [
    {
     "name": "stdout",
     "output_type": "stream",
     "text": [
      "4\n"
     ]
    }
   ],
   "source": [
    "print(SpyingNumber.get_global_counter())"
   ]
  },
  {
   "cell_type": "markdown",
   "id": "824f2def-e0e6-4d71-a236-cef9db7ccf32",
   "metadata": {},
   "source": [
    "### Задача 4"
   ]
  },
  {
   "cell_type": "code",
   "execution_count": 114,
   "id": "f85f75d7-e12c-4a79-9477-d90d19866b35",
   "metadata": {},
   "outputs": [],
   "source": [
    "class GeomRangeIterator:\n",
    "    def __init__(self, start, stop, step):\n",
    "        self.current, self.stop, self.step = start, stop,step\n",
    "\n",
    "    def __next__(self):\n",
    "        if self.current >= self.stop:\n",
    "            raise StopIteration\n",
    "        ans = self.current\n",
    "        self.current *= self.step\n",
    "        return ans\n",
    "\n",
    "\n",
    "class GeomRange:\n",
    "    def __init__(self, *args):\n",
    "        if len(args) == 1:\n",
    "            self.start, self.stop, self.step = 1, args[0], 2\n",
    "        elif len(args) == 2:\n",
    "            self.start, self.stop, self.step = args[0], args[1], 2\n",
    "        elif len(args) == 3:\n",
    "            self.start, self.stop, self.step = args[0], args[1], args[2]\n",
    "        else:\n",
    "            raise Exception\n",
    "\n",
    "    def __getitem__(self, n):\n",
    "        val = self.start * (self.step ** n)\n",
    "        if val >= self.stop:\n",
    "            raise IndexError(\"index is out of the progression\")\n",
    "        return val\n",
    "\n",
    "    def __iter__(self):\n",
    "        return GeomRangeIterator(self.start, self.stop, self.step)"
   ]
  },
  {
   "cell_type": "code",
   "execution_count": 115,
   "id": "13397fd3-41e1-487e-ae5a-bca56221bca4",
   "metadata": {},
   "outputs": [
    {
     "name": "stdout",
     "output_type": "stream",
     "text": [
      "1\n",
      "2\n",
      "4\n",
      "8\n"
     ]
    }
   ],
   "source": [
    "for x in GeomRange(1, 10, 2):\n",
    "    print(x)"
   ]
  },
  {
   "cell_type": "code",
   "execution_count": 116,
   "id": "737dfc1c-3b96-4a72-ba72-224397ecfb29",
   "metadata": {},
   "outputs": [],
   "source": [
    "for x in GeomRange(1, 1, 2):\n",
    "    print(x)"
   ]
  },
  {
   "cell_type": "code",
   "execution_count": 117,
   "id": "6c2a86ee-de73-4482-911a-412247f75457",
   "metadata": {},
   "outputs": [
    {
     "name": "stdout",
     "output_type": "stream",
     "text": [
      "1\n",
      "3\n",
      "9\n",
      "27\n",
      "81\n"
     ]
    }
   ],
   "source": [
    "for x in GeomRange(1, 100, 3):\n",
    "    print(x)"
   ]
  },
  {
   "cell_type": "code",
   "execution_count": 118,
   "id": "b83a2393-b4a9-4cbc-9112-243dc5524426",
   "metadata": {},
   "outputs": [
    {
     "ename": "TypeError",
     "evalue": "'GeomRange' object is not an iterator",
     "output_type": "error",
     "traceback": [
      "\u001b[0;31m---------------------------------------------------------------------------\u001b[0m",
      "\u001b[0;31mTypeError\u001b[0m                                 Traceback (most recent call last)",
      "Cell \u001b[0;32mIn[118], line 2\u001b[0m\n\u001b[1;32m      1\u001b[0m g \u001b[38;5;241m=\u001b[39m GeomRange(\u001b[38;5;241m1\u001b[39m, \u001b[38;5;241m100\u001b[39m, \u001b[38;5;241m3\u001b[39m)\n\u001b[0;32m----> 2\u001b[0m \u001b[38;5;28mnext\u001b[39m(g)\n",
      "\u001b[0;31mTypeError\u001b[0m: 'GeomRange' object is not an iterator"
     ]
    }
   ],
   "source": [
    "g = GeomRange(1, 100, 3)\n",
    "next(g)"
   ]
  },
  {
   "cell_type": "code",
   "execution_count": 106,
   "id": "1bd34330-5f27-486f-ac44-78c5b09fb22c",
   "metadata": {},
   "outputs": [],
   "source": [
    "it = iter(g)"
   ]
  },
  {
   "cell_type": "code",
   "execution_count": 112,
   "id": "cee77d16-7069-41f1-b163-736eecb4dde8",
   "metadata": {},
   "outputs": [
    {
     "ename": "StopIteration",
     "evalue": "",
     "output_type": "error",
     "traceback": [
      "\u001b[0;31m---------------------------------------------------------------------------\u001b[0m",
      "\u001b[0;31mStopIteration\u001b[0m                             Traceback (most recent call last)",
      "Cell \u001b[0;32mIn[112], line 1\u001b[0m\n\u001b[0;32m----> 1\u001b[0m \u001b[38;5;28mnext\u001b[39m(it)\n",
      "Cell \u001b[0;32mIn[101], line 7\u001b[0m, in \u001b[0;36mGeomRangeIterator.__next__\u001b[0;34m(self)\u001b[0m\n\u001b[1;32m      5\u001b[0m \u001b[38;5;28;01mdef\u001b[39;00m \u001b[38;5;21m__next__\u001b[39m(\u001b[38;5;28mself\u001b[39m):\n\u001b[1;32m      6\u001b[0m     \u001b[38;5;28;01mif\u001b[39;00m \u001b[38;5;28mself\u001b[39m\u001b[38;5;241m.\u001b[39mcurrent \u001b[38;5;241m>\u001b[39m\u001b[38;5;241m=\u001b[39m \u001b[38;5;28mself\u001b[39m\u001b[38;5;241m.\u001b[39mstop:\n\u001b[0;32m----> 7\u001b[0m         \u001b[38;5;28;01mraise\u001b[39;00m \u001b[38;5;167;01mStopIteration\u001b[39;00m\n\u001b[1;32m      8\u001b[0m     ans \u001b[38;5;241m=\u001b[39m \u001b[38;5;28mself\u001b[39m\u001b[38;5;241m.\u001b[39mcurrent\n\u001b[1;32m      9\u001b[0m     \u001b[38;5;28mself\u001b[39m\u001b[38;5;241m.\u001b[39mcurrent \u001b[38;5;241m*\u001b[39m\u001b[38;5;241m=\u001b[39m \u001b[38;5;28mself\u001b[39m\u001b[38;5;241m.\u001b[39mstep\n",
      "\u001b[0;31mStopIteration\u001b[0m: "
     ]
    }
   ],
   "source": [
    "next(it)"
   ]
  },
  {
   "cell_type": "code",
   "execution_count": 113,
   "id": "131a252e-5aa0-466d-b6e3-8855c624faff",
   "metadata": {},
   "outputs": [],
   "source": [
    "g = GeomRange(1, 100, 3)\n",
    "assert g[0] == 1\n",
    "assert g[1] == 3\n",
    "assert g[2] == 9\n",
    "assert g[3] == 27\n",
    "assert g[4] == 81\n"
   ]
  },
  {
   "cell_type": "code",
   "execution_count": null,
   "id": "7509897a-a2cd-4644-8dfe-de22a2c3b61a",
   "metadata": {},
   "outputs": [],
   "source": []
  },
  {
   "cell_type": "code",
   "execution_count": null,
   "id": "f326ac12-41f9-4c5d-acea-bddb09691c74",
   "metadata": {},
   "outputs": [],
   "source": []
  },
  {
   "cell_type": "code",
   "execution_count": null,
   "id": "b018a05c-2a10-42b2-beb9-d52b43ff56f5",
   "metadata": {},
   "outputs": [],
   "source": []
  },
  {
   "cell_type": "markdown",
   "id": "44a906ee-cf1a-4032-a20c-789ea3938231",
   "metadata": {
    "jp-MarkdownHeadingCollapsed": true
   },
   "source": [
    "# ML"
   ]
  },
  {
   "cell_type": "markdown",
   "id": "46aef61d-7cd9-4d47-96df-f6122cfe27ae",
   "metadata": {},
   "source": [
    "## ДЗ 7"
   ]
  },
  {
   "cell_type": "markdown",
   "id": "e3eb64da-332d-4a19-a4a9-a402f8308826",
   "metadata": {},
   "source": [
    "### Задача p1"
   ]
  },
  {
   "cell_type": "code",
   "execution_count": 6,
   "id": "bf218469-2d06-4335-91b5-cc042100412f",
   "metadata": {},
   "outputs": [],
   "source": [
    "import numpy as np\n",
    "\n",
    "class sample(object):\n",
    "    def __init__(self, X, n_subspace):\n",
    "        self.idx_subspace = self.random_subspace(X, n_subspace)\n",
    "\n",
    "    def __call__(self, X, y):\n",
    "        return self.get_subsample(X, y, self.idx_subspace, self.bootstrap_sample(X))\n",
    "\n",
    "    @staticmethod\n",
    "    def bootstrap_sample(X):\n",
    "        return np.unique(np.random.choice( len(X), size= len(X), replace=True))\n",
    "\n",
    "    @staticmethod\n",
    "    def random_subspace(X, n_subspace):\n",
    "        return np.unique(np.random.choice(X.shape[1], size=n_subspace, replace=False))\n",
    "\n",
    "    @staticmethod\n",
    "    def get_subsample(X, y, idx_subspace, idx_obj):\n",
    "        return X[idx_obj][:, idx_subspace], y[idx_obj]"
   ]
  },
  {
   "cell_type": "code",
   "execution_count": 9,
   "id": "3ce50ffd-1db4-4530-a711-2c3d465fe7a3",
   "metadata": {},
   "outputs": [
    {
     "data": {
      "text/plain": [
       "(array([1, 2]),\n",
       " array([1, 2]),\n",
       " array([[5, 6],\n",
       "        [8, 9]]),\n",
       " array([2, 3]))"
      ]
     },
     "execution_count": 9,
     "metadata": {},
     "output_type": "execute_result"
    }
   ],
   "source": [
    "X = np.array([[1,2,3], [4,5,6], [7,8,9]])\n",
    "Y = np.array([1, 2, 3])\n",
    "s = sample(X, 2)\n",
    "\n",
    "bootstrap_indices = s.bootstrap_sample(X)\n",
    "X_sampled, y_sampled = s.get_subsample(X, Y, s.idx_subspace, bootstrap_indices)\n",
    "\n",
    "bootstrap_indices, s.idx_subspace, X_sampled, y_sampled"
   ]
  },
  {
   "cell_type": "code",
   "execution_count": null,
   "id": "91a46f99-733a-435f-873a-392775581414",
   "metadata": {},
   "outputs": [],
   "source": [
    "# Дх"
   ]
  }
 ],
 "metadata": {
  "kernelspec": {
   "display_name": "Python 3 (ipykernel)",
   "language": "python",
   "name": "python3"
  },
  "language_info": {
   "codemirror_mode": {
    "name": "ipython",
    "version": 3
   },
   "file_extension": ".py",
   "mimetype": "text/x-python",
   "name": "python",
   "nbconvert_exporter": "python",
   "pygments_lexer": "ipython3",
   "version": "3.12.2"
  }
 },
 "nbformat": 4,
 "nbformat_minor": 5
}
