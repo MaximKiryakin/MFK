{
 "cells": [
  {
   "cell_type": "markdown",
   "id": "33996bad-0c56-4ec6-a247-210944f228b6",
   "metadata": {
    "jp-MarkdownHeadingCollapsed": true
   },
   "source": [
    "# Введение в питон"
   ]
  },
  {
   "cell_type": "markdown",
   "id": "d69a978c-516c-4a63-b0e0-27c0355b6c9c",
   "metadata": {
    "jp-MarkdownHeadingCollapsed": true
   },
   "source": [
    "## ДЗ 4"
   ]
  },
  {
   "cell_type": "markdown",
   "id": "740a86ce-6763-4aec-a264-405cdc5ba115",
   "metadata": {
    "jp-MarkdownHeadingCollapsed": true
   },
   "source": [
    "### Задача 1"
   ]
  },
  {
   "cell_type": "code",
   "execution_count": 71,
   "id": "9e036db3-f88f-4b14-9ca8-ba2b8a10cc31",
   "metadata": {},
   "outputs": [
    {
     "name": "stdin",
     "output_type": "stream",
     "text": [
      " 255\n"
     ]
    },
    {
     "name": "stdout",
     "output_type": "stream",
     "text": [
      "11111111\n"
     ]
    }
   ],
   "source": [
    "number = int(input())\n",
    "if number == 0:\n",
    "    print(\"0\")\n",
    "else:\n",
    "    ans = \"\"\n",
    "    while number > 0:\n",
    "        ans = str(number % 2) + ans\n",
    "        number //= 2\n",
    "print(ans)"
   ]
  },
  {
   "cell_type": "markdown",
   "id": "74e451d9-493d-4ee1-828c-604de6274e4c",
   "metadata": {},
   "source": [
    "### Задача 2"
   ]
  },
  {
   "cell_type": "code",
   "execution_count": 76,
   "id": "46560224-8b94-4db1-a7e6-9c6b0b4971b1",
   "metadata": {},
   "outputs": [
    {
     "name": "stdin",
     "output_type": "stream",
     "text": [
      " 0\n"
     ]
    },
    {
     "name": "stdout",
     "output_type": "stream",
     "text": [
      "0 0\n"
     ]
    }
   ],
   "source": [
    "number = int(input())\n",
    "\n",
    "def foo(n):\n",
    "  cnt = 0\n",
    "  while n > 0:\n",
    "    if n % 2 == 0:\n",
    "      cnt += 1\n",
    "    n //= 2\n",
    "  return cnt\n",
    "\n",
    "\n",
    "\n",
    "count, sum = 0, 0\n",
    "while number != 0:\n",
    "  if foo(number) == 3:\n",
    "    count, sum = count + 1, sum + number\n",
    "      \n",
    "  number = int(input())\n",
    "print(count, sum)"
   ]
  },
  {
   "cell_type": "markdown",
   "id": "bb6160ab-c113-4515-bd1a-94c3ccccb0d2",
   "metadata": {},
   "source": [
    "### Задача 3"
   ]
  },
  {
   "cell_type": "code",
   "execution_count": 78,
   "id": "12ab09e0-757c-4430-8fd8-e89c6260f222",
   "metadata": {},
   "outputs": [
    {
     "name": "stdin",
     "output_type": "stream",
     "text": [
      " 1 2 3\n"
     ]
    },
    {
     "name": "stdout",
     "output_type": "stream",
     "text": [
      "7.000\n"
     ]
    }
   ],
   "source": [
    "tmp = str(input()).split()\n",
    "b = float(tmp[0])\n",
    "q = float(tmp[1])\n",
    "N = int(tmp[2])\n",
    "\n",
    "ans = b  *(1 - q**N) / (1 - q)\n",
    "\n",
    "print(f\"{ans:.3f}\")"
   ]
  },
  {
   "cell_type": "markdown",
   "id": "efbe2fbb-e552-4155-a281-8baccee47822",
   "metadata": {},
   "source": [
    "### Задача 4"
   ]
  },
  {
   "cell_type": "code",
   "execution_count": 81,
   "id": "d8742bd1-a257-4f15-b268-f850944f03b4",
   "metadata": {},
   "outputs": [
    {
     "name": "stdin",
     "output_type": "stream",
     "text": [
      " 3\n",
      " -10 9 3\n",
      " 0 6\n",
      " 3 6 9 2\n"
     ]
    },
    {
     "name": "stdout",
     "output_type": "stream",
     "text": [
      "2.000\n"
     ]
    }
   ],
   "source": [
    "n = int(input())\n",
    "ans = None\n",
    "for i in range(n):\n",
    "    tmp = min(list(map(float, input().split())))\n",
    "\n",
    "    ans = tmp if ans is None else max(ans, tmp)\n",
    "    \n",
    "print(f\"{ans:.3f}\")"
   ]
  },
  {
   "cell_type": "markdown",
   "id": "a675fe4b-9113-4205-b5fb-d2911ee730f7",
   "metadata": {},
   "source": [
    "### Задача 5"
   ]
  },
  {
   "cell_type": "code",
   "execution_count": 65,
   "id": "231a1797-6cfd-44ee-9035-2c0137e38a30",
   "metadata": {},
   "outputs": [
    {
     "name": "stdin",
     "output_type": "stream",
     "text": [
      " 100 4\n",
      " 120/10 80/20\n",
      " 120/10 110/10 130/10 120/15\n",
      " 100/10 110/15 95/25\n",
      " 90/10 80/20 85/15\n"
     ]
    },
    {
     "name": "stdout",
     "output_type": "stream",
     "text": [
      "3500\n"
     ]
    }
   ],
   "source": [
    "limit, N = str(input()).split()\n",
    "limit, N = int(limit), int(N)\n",
    "\n",
    "ans = 0\n",
    "for _ in range(N):\n",
    "    tmp = [[int(i.split('/')[0]), int(i.split('/')[1])] for i in str(input()).split()]\n",
    "    tmp = [i[0]* i[1] for i in tmp if i[0] <= limit]\n",
    "    ans += 0 if not tmp else min(tmp)\n",
    "    \n",
    "print(ans)"
   ]
  },
  {
   "cell_type": "markdown",
   "id": "62d2a7df-0547-484b-877d-ddb122b89194",
   "metadata": {},
   "source": [
    "## ДЗ 5"
   ]
  },
  {
   "cell_type": "markdown",
   "id": "e46d2be0-b475-4091-9a35-a0746107541e",
   "metadata": {},
   "source": [
    "### Задача 1"
   ]
  },
  {
   "cell_type": "code",
   "execution_count": 88,
   "id": "23541b47-5cc5-46fe-95c6-5ff3f8823789",
   "metadata": {},
   "outputs": [
    {
     "name": "stdin",
     "output_type": "stream",
     "text": [
      " 1 5 2\n",
      " 10 20 30 40 50 60\n"
     ]
    },
    {
     "name": "stdout",
     "output_type": "stream",
     "text": [
      "[10, 1, 30, 3, 50, 60]\n"
     ]
    }
   ],
   "source": [
    "start, stop, step = map(int, input().split())\n",
    "ans = list(map(int, input().split()))\n",
    "\n",
    "for i in range(start, stop, step):\n",
    "    ans[i] = i  \n",
    "\n",
    "print(ans)"
   ]
  },
  {
   "cell_type": "markdown",
   "id": "95232e31-9603-4331-a757-5436cbc18c7d",
   "metadata": {},
   "source": [
    "### Задача 2"
   ]
  },
  {
   "cell_type": "code",
   "execution_count": 102,
   "id": "4ae9520f-5018-4f03-a1c1-a2ad2d8fb29b",
   "metadata": {},
   "outputs": [],
   "source": [
    "children = []\n",
    "with open(\"weights.txt\", 'r') as f:\n",
    "    for line in f:\n",
    "        children.append(line.split())\n",
    "\n",
    "children = sorted(children, reverse=True, key=lambda x: float(x[1]))\n",
    "\n",
    "ans = children[::2] + children[1::2]\n",
    "\n",
    "with open('team.txt', 'w') as f:\n",
    "    for weight, name in ans:\n",
    "        f.write(f\"{name} {weight}\\n\")"
   ]
  },
  {
   "cell_type": "markdown",
   "id": "a4b456cd-7e52-406b-9645-00feec350f2d",
   "metadata": {},
   "source": [
    "### Задача 3"
   ]
  },
  {
   "cell_type": "code",
   "execution_count": 20,
   "id": "ff2e5ff1-4b68-4acf-a854-ee942f4168ed",
   "metadata": {},
   "outputs": [],
   "source": [
    "with open(\"poe_unpublished.txt\", 'r') as f:\n",
    "    text = f.read()\n",
    "\n",
    "tmp = text.split(\"\\n\")\n",
    "tmp.sort(key=lambda x: len(x.split()))\n",
    "tmp = [sorted(i.split(), key=lambda x: len(x)) for i in tmp]\n",
    "\n",
    "with open('poe_decode_attempt.txt', 'w') as f:\n",
    "    for line in tmp:\n",
    "        f.write(\" \".join(line) + \"\\n\")"
   ]
  },
  {
   "cell_type": "code",
   "execution_count": 22,
   "id": "617ac8dd-992d-49c8-98f0-ec77c9039007",
   "metadata": {},
   "outputs": [
    {
     "name": "stdout",
     "output_type": "stream",
     "text": [
      "I was angry with my friend\n",
      "I told my wrath my wrath did end\n",
      "I was angry with my foe\n",
      "I told it not my wrath did grow"
     ]
    }
   ],
   "source": [
    "!cat poe_unpublished.txt"
   ]
  },
  {
   "cell_type": "code",
   "execution_count": 21,
   "id": "3d0b1695-2500-4574-9e81-22126993121d",
   "metadata": {},
   "outputs": [
    {
     "name": "stdout",
     "output_type": "stream",
     "text": [
      "I my was with angry friend\n",
      "I my was foe with angry\n",
      "I my my did end told wrath wrath\n",
      "I it my not did told grow wrath\n"
     ]
    }
   ],
   "source": [
    "!cat poe_decode_attempt.txt"
   ]
  },
  {
   "cell_type": "markdown",
   "id": "d2b93cbe-7a59-4d71-a086-49bb6cd27b38",
   "metadata": {},
   "source": [
    "### Задача 4"
   ]
  },
  {
   "cell_type": "code",
   "execution_count": 44,
   "id": "9c3278d8-a351-401a-873c-aed6818e7ee4",
   "metadata": {},
   "outputs": [],
   "source": [
    "with open(\"med_research.txt\", 'r') as f:\n",
    "    matrix = [i.split() for i in f.read().splitlines()]\n",
    "\n",
    "n, m = len(matrix), len(matrix[0])\n",
    "ans = [[0 for i in range(n)] for j in range(m)]\n",
    "\n",
    "for i in range(n):\n",
    "    for j in range(m):\n",
    "        ans[j][i] = matrix[i][j]\n",
    "\n",
    "with open('output.txt', 'w') as f:\n",
    "    for line in ans:\n",
    "        f.write(\" \".join(line) + \"\\n\")"
   ]
  },
  {
   "cell_type": "code",
   "execution_count": 45,
   "id": "eaa6724f-dab5-4ef7-8550-e38bb6e32438",
   "metadata": {},
   "outputs": [
    {
     "name": "stdout",
     "output_type": "stream",
     "text": [
      "1 2 3 4 5\n",
      "6 7 8 9 10"
     ]
    }
   ],
   "source": [
    "!cat med_research.txt"
   ]
  },
  {
   "cell_type": "code",
   "execution_count": 46,
   "id": "c94b9d21-5203-4447-8a44-6c55785b6172",
   "metadata": {},
   "outputs": [
    {
     "name": "stdout",
     "output_type": "stream",
     "text": [
      "1 6\n",
      "2 7\n",
      "3 8\n",
      "4 9\n",
      "5 10\n"
     ]
    }
   ],
   "source": [
    "!cat output.txt"
   ]
  },
  {
   "cell_type": "markdown",
   "id": "f07c1e8c-a04b-4b80-8d0e-c5885e587ae5",
   "metadata": {},
   "source": [
    "### Задача 5"
   ]
  },
  {
   "cell_type": "code",
   "execution_count": 68,
   "id": "348e26f7-4011-4ad6-b405-4c5389f73b40",
   "metadata": {},
   "outputs": [],
   "source": [
    "with open(\"the_calls.txt\", 'r') as f:\n",
    "    calls = [i.split('\\t') for i in f.read().splitlines()]\n",
    "\n",
    "A = sorted([i for i in calls if i[2] == 'A'], key=lambda x: int(x[1]), reverse=True)\n",
    "B = sorted([i for i in calls if i[2] == 'B'], key=lambda x: int(x[1]), reverse=True)\n",
    "\n",
    "ans = A + B\n",
    "with open('calls.txt', 'w') as f:\n",
    "    for line in ans:\n",
    "        f.write(\"\\t\".join(line) + \"\\n\")"
   ]
  },
  {
   "cell_type": "code",
   "execution_count": 69,
   "id": "fbab5f0b-3e00-4378-9efb-0a298e3e03da",
   "metadata": {},
   "outputs": [
    {
     "name": "stdout",
     "output_type": "stream",
     "text": [
      "2021.12.12\t3\tB\t+79090329400\n",
      "2019.10.03\t18\tA\t+79999995454\n",
      "2020.05.04\t13\tB\t+72352452532\n",
      "2020.05.04\t4\tA\t+79023987567"
     ]
    }
   ],
   "source": [
    "!cat the_calls.txt"
   ]
  },
  {
   "cell_type": "code",
   "execution_count": 70,
   "id": "c8d2ec3c-bb30-4be7-bdbb-f2df7fd5efff",
   "metadata": {},
   "outputs": [
    {
     "name": "stdout",
     "output_type": "stream",
     "text": [
      "2019.10.03\t18\tA\t+79999995454\n",
      "2020.05.04\t4\tA\t+79023987567\n",
      "2020.05.04\t13\tB\t+72352452532\n",
      "2021.12.12\t3\tB\t+79090329400\n"
     ]
    }
   ],
   "source": [
    "!cat calls.txt"
   ]
  },
  {
   "cell_type": "markdown",
   "id": "44a906ee-cf1a-4032-a20c-789ea3938231",
   "metadata": {},
   "source": [
    "# ML"
   ]
  },
  {
   "cell_type": "code",
   "execution_count": null,
   "id": "2c1989f9-b403-4c8a-894b-7a0320d7a5df",
   "metadata": {},
   "outputs": [],
   "source": []
  }
 ],
 "metadata": {
  "kernelspec": {
   "display_name": "Python 3 (ipykernel)",
   "language": "python",
   "name": "python3"
  },
  "language_info": {
   "codemirror_mode": {
    "name": "ipython",
    "version": 3
   },
   "file_extension": ".py",
   "mimetype": "text/x-python",
   "name": "python",
   "nbconvert_exporter": "python",
   "pygments_lexer": "ipython3",
   "version": "3.12.2"
  }
 },
 "nbformat": 4,
 "nbformat_minor": 5
}
